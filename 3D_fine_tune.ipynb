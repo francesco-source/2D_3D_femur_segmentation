{
 "cells": [
  {
   "cell_type": "markdown",
   "metadata": {},
   "source": [
    "# End to end fine tune of nnUNet with TotalSegmentator"
   ]
  },
  {
   "cell_type": "markdown",
   "metadata": {},
   "source": [
    "## 0. Setting up.\n",
    "- Set up all the environment variables needed for nnUNet (in the following cells)\n",
    "- Be sure to have saved the dataset in the right format (.nii.gz) and with the right names (see [nnUNet documentation](https://github.com/MIC-DKFZ/nnUNet/blob/master/documentation/dataset_format.md))"
   ]
  },
  {
   "cell_type": "code",
   "execution_count": 1,
   "metadata": {},
   "outputs": [],
   "source": [
    "%load_ext autoreload\n",
    "%autoreload 2\n",
    "\n",
    "import os\n",
    "from pathlib import Path\n",
    "import shutil\n",
    "import subprocess\n",
    "\n",
    "\n",
    "from nnunetv2.experiment_planning.plans_for_pretraining.move_plans_between_datasets import move_plans_between_datasets\n",
    "from totalsegmentator.config import setup_nnunet, setup_totalseg\n",
    "from totalsegmentator.libs import download_pretrained_weights"
   ]
  },
  {
   "cell_type": "code",
   "execution_count": 2,
   "metadata": {},
   "outputs": [],
   "source": [
    "setup_nnunet()\n",
    "setup_totalseg()\n",
    "\n",
    "# environment variables\n",
    "os.environ['nnUNet_raw'] = '/home/matteo.fusconi/TOTALSEGMENTATOR/nnUNet_raw'\n",
    "os.environ['nnUNet_preprocessed'] = '/home/matteo.fusconi/TOTALSEGMENTATOR/nnUNet_preprocessed'\n",
    "os.environ['nnUNet_results'] = '/home/matteo.fusconi/TOTALSEGMENTATOR/nnUNet_results'\n",
    "\n",
    "os.environ['TotalSegmentator'] = 'Dataset294_TotalSegmentator_part4_muscles_1559subj' # Totalsegmentator dummy dataset\n",
    "\n",
    "os.environ['femur_left'] = \"Dataset001_Femur_left\"# '7'\n",
    "os.environ['femur_right'] = \"Dataset002_Femur_right\"# '8'\n",
    "\n",
    "os.environ['TOTALSEG_HOME_DIR'] = os.path.join(os.path.expanduser(\"~\"), '.totalsegmentator')\n",
    "os.environ['PATH_TO_CHECKPOINT'] = os.path.join(os.environ.get('TOTALSEG_HOME_DIR'), \n",
    "                                                'nnunet', 'results', 'Dataset294_TotalSegmentator_part4_muscles_1559subj', \n",
    "                                                'nnUNetTrainerNoMirroring__nnUNetPlans__3d_fullres', 'fold_0', \"checkpoint_final.pth\")\n",
    "os.environ['TOTALSEG_MODEL_DIR'] = os.path.join(os.environ.get('TOTALSEG_HOME_DIR'), \n",
    "                                                'nnunet', 'results', 'Dataset294_TotalSegmentator_part4_muscles_1559subj', \n",
    "                                                'nnUNetTrainerNoMirroring__nnUNetPlans__3d_fullres')\n",
    "\n",
    "os.environ['data_trainingImages'] = \"imagesTr\"\n",
    "os.environ['data_trainingLabels'] = \"labelsTr\"\n",
    "\n",
    "classes = [os.environ.get('femur_left'),\n",
    "            os.environ.get('femur_right'),\n",
    "            os.environ.get('TotalSegmentator')]\n",
    "\n",
    "raw_data = [os.path.join(os.environ.get('nnUNet_raw'), x, os.environ.get('data_trainingImages')) for x in classes]\n",
    "gt_labels = [os.path.join(os.environ.get('nnUNet_raw'), x, os.environ.get('data_trainingLabels')) for x in classes]\n",
    "\n",
    "task_id = 294\n",
    "download_pretrained_weights(task_id)\n"
   ]
  },
  {
   "cell_type": "markdown",
   "metadata": {},
   "source": [
    "## 1. Preprocessing\n",
    "- retrieve the plans from Total Segmentator model (it is in the .totalsementator folder)\n",
    "- preprocess your target dataset (it creates the dataset fingerprint and preprocess the instances in the nnUNet preprocessed folder)\n",
    "- **move the plans** from old totalsegmentator dataset, to the new one"
   ]
  },
  {
   "cell_type": "code",
   "execution_count": 6,
   "metadata": {},
   "outputs": [
    {
     "data": {
      "text/plain": [
       "'/home/matteo.fusconi/TOTALSEGMENTATOR/nnUNet_preprocessed/Dataset294_TotalSegmentator_part4_muscles_1559subj/dataset_fingerprint.json'"
      ]
     },
     "execution_count": 6,
     "metadata": {},
     "output_type": "execute_result"
    }
   ],
   "source": [
    "if not os.path.exists(os.path.join(os.environ.get('nnUNet_preprocessed'), os.environ.get('TotalSegmentator'))):\n",
    "    Path(os.path.join(os.environ.get('nnUNet_preprocessed'), os.environ.get('TotalSegmentator'))).mkdir(parents= True, exist_ok= True)\n",
    "\n",
    "shutil.copy(src= os.path.join(os.environ.get('TOTALSEG_MODEL_DIR'), 'plans.json'), \n",
    "            dst= os.path.join(os.environ.get('nnUNet_preprocessed'), os.environ.get('TotalSegmentator'), 'nnUNetPlans.json'))"
   ]
  },
  {
   "cell_type": "code",
   "execution_count": 5,
   "metadata": {},
   "outputs": [
    {
     "name": "stdout",
     "output_type": "stream",
     "text": [
      "Fingerprint extraction...\n",
      "Dataset003_Femur\n",
      "Using <class 'nnunetv2.imageio.simpleitk_reader_writer.SimpleITKIO'> as reader/writer\n"
     ]
    },
    {
     "name": "stderr",
     "output_type": "stream",
     "text": [
      "100%|██████████| 40/40 [00:06<00:00,  5.86it/s]\n"
     ]
    },
    {
     "name": "stdout",
     "output_type": "stream",
     "text": [
      "Experiment planning...\n",
      "\n",
      "############################\n",
      "INFO: You are using the old nnU-Net default planner. We have updated our recommendations. Please consider using those instead! Read more here: https://github.com/MIC-DKFZ/nnUNet/blob/master/documentation/resenc_presets.md\n",
      "############################\n",
      "\n",
      "Attempting to find 3d_lowres config. \n",
      "Current spacing: [2.         0.76445362 0.76445362]. \n",
      "Current patch size: (np.int64(112), np.int64(128), np.int64(128)). \n",
      "Current median shape: [248.         311.16504854 248.54368932]\n",
      "Attempting to find 3d_lowres config. \n",
      "Current spacing: [2.         0.78738722 0.78738722]. \n",
      "Current patch size: (np.int64(128), np.int64(128), np.int64(112)). \n",
      "Current median shape: [248.         302.10198888 241.30455274]\n",
      "Attempting to find 3d_lowres config. \n",
      "Current spacing: [2.         0.81100884 0.81100884]. \n",
      "Current patch size: (np.int64(128), np.int64(128), np.int64(112)). \n",
      "Current median shape: [248.         293.30290182 234.27626479]\n",
      "Attempting to find 3d_lowres config. \n",
      "Current spacing: [2.         0.83533911 0.83533911]. \n",
      "Current patch size: (np.int64(128), np.int64(128), np.int64(112)). \n",
      "Current median shape: [248.         284.76009886 227.45268427]\n",
      "Attempting to find 3d_lowres config. \n",
      "Current spacing: [2.         0.86039928 0.86039928]. \n",
      "Current patch size: (np.int64(128), np.int64(128), np.int64(112)). \n",
      "Current median shape: [248.        276.4661154 220.8278488]\n",
      "Attempting to find 3d_lowres config. \n",
      "Current spacing: [2.         0.88621126 0.88621126]. \n",
      "Current patch size: (np.int64(144), np.int64(128), np.int64(112)). \n",
      "Current median shape: [248.         268.41370427 214.39596971]\n",
      "Attempting to find 3d_lowres config. \n",
      "Current spacing: [2.        0.9127976 0.9127976]. \n",
      "Current patch size: (np.int64(144), np.int64(128), np.int64(112)). \n",
      "Current median shape: [248.         260.59582939 208.1514269 ]\n",
      "Attempting to find 3d_lowres config. \n",
      "Current spacing: [2.         0.94018152 0.94018152]. \n",
      "Current patch size: (np.int64(144), np.int64(128), np.int64(112)). \n",
      "Current median shape: [248.         253.0056596  202.08876398]\n",
      "Attempting to find 3d_lowres config. \n",
      "Current spacing: [2.         0.96838697 0.96838697]. \n",
      "Current patch size: (np.int64(144), np.int64(128), np.int64(112)). \n",
      "Current median shape: [248.         245.63656272 196.20268348]\n",
      "Attempting to find 3d_lowres config. \n",
      "Current spacing: [2.         0.99743858 0.99743858]. \n",
      "Current patch size: (np.int64(144), np.int64(128), np.int64(112)). \n",
      "Current median shape: [248.         238.48209972 190.48804221]\n",
      "Attempting to find 3d_lowres config. \n",
      "Current spacing: [2.         1.02736174 1.02736174]. \n",
      "Current patch size: (np.int64(160), np.int64(128), np.int64(112)). \n",
      "Current median shape: [248.         231.53601915 184.93984681]\n",
      "Attempting to find 3d_lowres config. \n",
      "Current spacing: [2.06       1.05818259 1.05818259]. \n",
      "Current patch size: (np.int64(160), np.int64(128), np.int64(112)). \n",
      "Current median shape: [240.77669903 224.7922516  179.55324933]\n",
      "Attempting to find 3d_lowres config. \n",
      "Current spacing: [2.1218     1.08992807 1.08992807]. \n",
      "Current patch size: (np.int64(160), np.int64(128), np.int64(112)). \n",
      "Current median shape: [233.76378547 218.24490447 174.32354304]\n",
      "2D U-Net configuration:\n",
      "{'data_identifier': 'nnUNetPlans_2d', 'preprocessor_name': 'DefaultPreprocessor', 'batch_size': 33, 'patch_size': (np.int64(384), np.int64(256)), 'median_image_size_in_voxels': array([320.5, 256. ]), 'spacing': array([0.74218798, 0.74218798]), 'normalization_schemes': ['ZScoreNormalization'], 'use_mask_for_norm': [False], 'resampling_fn_data': 'resample_data_or_seg_to_shape', 'resampling_fn_seg': 'resample_data_or_seg_to_shape', 'resampling_fn_data_kwargs': {'is_seg': False, 'order': 3, 'order_z': 0, 'force_separate_z': None}, 'resampling_fn_seg_kwargs': {'is_seg': True, 'order': 1, 'order_z': 0, 'force_separate_z': None}, 'resampling_fn_probabilities': 'resample_data_or_seg_to_shape', 'resampling_fn_probabilities_kwargs': {'is_seg': False, 'order': 1, 'order_z': 0, 'force_separate_z': None}, 'architecture': {'network_class_name': 'dynamic_network_architectures.architectures.unet.PlainConvUNet', 'arch_kwargs': {'n_stages': 7, 'features_per_stage': (32, 64, 128, 256, 512, 512, 512), 'conv_op': 'torch.nn.modules.conv.Conv2d', 'kernel_sizes': ((3, 3), (3, 3), (3, 3), (3, 3), (3, 3), (3, 3), (3, 3)), 'strides': ((1, 1), (2, 2), (2, 2), (2, 2), (2, 2), (2, 2), (2, 2)), 'n_conv_per_stage': (2, 2, 2, 2, 2, 2, 2), 'n_conv_per_stage_decoder': (2, 2, 2, 2, 2, 2), 'conv_bias': True, 'norm_op': 'torch.nn.modules.instancenorm.InstanceNorm2d', 'norm_op_kwargs': {'eps': 1e-05, 'affine': True}, 'dropout_op': None, 'dropout_op_kwargs': None, 'nonlin': 'torch.nn.LeakyReLU', 'nonlin_kwargs': {'inplace': True}}, '_kw_requires_import': ('conv_op', 'norm_op', 'dropout_op', 'nonlin')}, 'batch_dice': True}\n",
      "\n",
      "Using <class 'nnunetv2.imageio.simpleitk_reader_writer.SimpleITKIO'> as reader/writer\n",
      "3D lowres U-Net configuration:\n",
      "{'data_identifier': 'nnUNetPlans_3d_lowres', 'preprocessor_name': 'DefaultPreprocessor', 'batch_size': 2, 'patch_size': (np.int64(160), np.int64(128), np.int64(112)), 'median_image_size_in_voxels': (234, 218, 174), 'spacing': array([2.1218    , 1.08992807, 1.08992807]), 'normalization_schemes': ['ZScoreNormalization'], 'use_mask_for_norm': [False], 'resampling_fn_data': 'resample_data_or_seg_to_shape', 'resampling_fn_seg': 'resample_data_or_seg_to_shape', 'resampling_fn_data_kwargs': {'is_seg': False, 'order': 3, 'order_z': 0, 'force_separate_z': None}, 'resampling_fn_seg_kwargs': {'is_seg': True, 'order': 1, 'order_z': 0, 'force_separate_z': None}, 'resampling_fn_probabilities': 'resample_data_or_seg_to_shape', 'resampling_fn_probabilities_kwargs': {'is_seg': False, 'order': 1, 'order_z': 0, 'force_separate_z': None}, 'architecture': {'network_class_name': 'dynamic_network_architectures.architectures.unet.PlainConvUNet', 'arch_kwargs': {'n_stages': 6, 'features_per_stage': (32, 64, 128, 256, 320, 320), 'conv_op': 'torch.nn.modules.conv.Conv3d', 'kernel_sizes': ((3, 3, 3), (3, 3, 3), (3, 3, 3), (3, 3, 3), (3, 3, 3), (3, 3, 3)), 'strides': ((1, 1, 1), (2, 2, 2), (2, 2, 2), (2, 2, 2), (2, 2, 2), (2, 2, 1)), 'n_conv_per_stage': (2, 2, 2, 2, 2, 2), 'n_conv_per_stage_decoder': (2, 2, 2, 2, 2), 'conv_bias': True, 'norm_op': 'torch.nn.modules.instancenorm.InstanceNorm3d', 'norm_op_kwargs': {'eps': 1e-05, 'affine': True}, 'dropout_op': None, 'dropout_op_kwargs': None, 'nonlin': 'torch.nn.LeakyReLU', 'nonlin_kwargs': {'inplace': True}}, '_kw_requires_import': ('conv_op', 'norm_op', 'dropout_op', 'nonlin')}, 'batch_dice': False, 'next_stage': '3d_cascade_fullres'}\n",
      "\n",
      "3D fullres U-Net configuration:\n",
      "{'data_identifier': 'nnUNetPlans_3d_fullres', 'preprocessor_name': 'DefaultPreprocessor', 'batch_size': 2, 'patch_size': (np.int64(112), np.int64(160), np.int64(112)), 'median_image_size_in_voxels': array([248. , 320.5, 256. ]), 'spacing': array([2.        , 0.74218798, 0.74218798]), 'normalization_schemes': ['ZScoreNormalization'], 'use_mask_for_norm': [False], 'resampling_fn_data': 'resample_data_or_seg_to_shape', 'resampling_fn_seg': 'resample_data_or_seg_to_shape', 'resampling_fn_data_kwargs': {'is_seg': False, 'order': 3, 'order_z': 0, 'force_separate_z': None}, 'resampling_fn_seg_kwargs': {'is_seg': True, 'order': 1, 'order_z': 0, 'force_separate_z': None}, 'resampling_fn_probabilities': 'resample_data_or_seg_to_shape', 'resampling_fn_probabilities_kwargs': {'is_seg': False, 'order': 1, 'order_z': 0, 'force_separate_z': None}, 'architecture': {'network_class_name': 'dynamic_network_architectures.architectures.unet.PlainConvUNet', 'arch_kwargs': {'n_stages': 6, 'features_per_stage': (32, 64, 128, 256, 320, 320), 'conv_op': 'torch.nn.modules.conv.Conv3d', 'kernel_sizes': ((1, 3, 3), (3, 3, 3), (3, 3, 3), (3, 3, 3), (3, 3, 3), (3, 3, 3)), 'strides': ((1, 1, 1), (1, 2, 2), (2, 2, 2), (2, 2, 2), (2, 2, 2), (2, 2, 1)), 'n_conv_per_stage': (2, 2, 2, 2, 2, 2), 'n_conv_per_stage_decoder': (2, 2, 2, 2, 2), 'conv_bias': True, 'norm_op': 'torch.nn.modules.instancenorm.InstanceNorm3d', 'norm_op_kwargs': {'eps': 1e-05, 'affine': True}, 'dropout_op': None, 'dropout_op_kwargs': None, 'nonlin': 'torch.nn.LeakyReLU', 'nonlin_kwargs': {'inplace': True}}, '_kw_requires_import': ('conv_op', 'norm_op', 'dropout_op', 'nonlin')}, 'batch_dice': True}\n",
      "\n",
      "Plans were saved to /home/matteo.fusconi/TOTALSEGMENTATOR/nnUNet_preprocessed/Dataset003_Femur/nnUNetPlans.json\n",
      "Preprocessing...\n",
      "Preprocessing dataset Dataset003_Femur\n",
      "Configuration: 3d_fullres...\n"
     ]
    },
    {
     "name": "stderr",
     "output_type": "stream",
     "text": [
      "100%|██████████| 40/40 [01:41<00:00,  2.53s/it]\n"
     ]
    },
    {
     "data": {
      "text/plain": [
       "'subprocess.check_call([\"nnUNetv2_plan_and_preprocess\", \\n                       \"-d\", \"2\",\\n                       \"-c\", \"3d_fullres\"])'"
      ]
     },
     "execution_count": 5,
     "metadata": {},
     "output_type": "execute_result"
    }
   ],
   "source": [
    "subprocess.check_call([\"nnUNetv2_plan_and_preprocess\", \n",
    "                       \"-d\", \"4\",\n",
    "                       \"-c\", \"3d_fullres\"])\n"
   ]
  },
  {
   "cell_type": "code",
   "execution_count": 14,
   "metadata": {},
   "outputs": [
    {
     "name": "stdout",
     "output_type": "stream",
     "text": [
      "Dataset294_TotalSegmentator_part4_muscles_1559subj\n"
     ]
    },
    {
     "data": {
      "text/plain": [
       "0"
      ]
     },
     "execution_count": 14,
     "metadata": {},
     "output_type": "execute_result"
    }
   ],
   "source": [
    "PRETRAINING_DATASET = 294\n",
    "TARGET_DATASET = 4\n",
    "PRETRAINING_PLANS_IDENTIFIER = \"nnUNetPlans\"\n",
    "TARGET_PLANS_IDENTIFIER = \"totseg_nnUNetPlans\"\n",
    "\n",
    "subprocess.check_call([\"nnUNetv2_move_plans_between_datasets\",\n",
    "                        \"-s\", str(PRETRAINING_DATASET),\n",
    "                        \"-t\", str(TARGET_DATASET),\n",
    "                        \"-sp\", str(PRETRAINING_PLANS_IDENTIFIER), \n",
    "                        \"-tp\", str(TARGET_PLANS_IDENTIFIER)])\n"
   ]
  },
  {
   "cell_type": "markdown",
   "metadata": {},
   "source": [
    "## 2. fine tuning\n",
    "- Manually (TODO) rename the folder `nnUNetPlans_3d_fullres` into `totseg_nnUNetPlans_3d_fullres`\n",
    "- Run training"
   ]
  },
  {
   "cell_type": "code",
   "execution_count": null,
   "metadata": {},
   "outputs": [],
   "source": [
    "FOLD = \"1\"\n",
    "TARGET_DATASET = \"3\"\n",
    "CONFIG = \"3d_fullres\"\n",
    "PATH_TO_CHECKPOINT = os.environ[\"PATH_TO_CHECKPOINT\"]\n",
    "TRAINER = \"nnUNetTrainer_20epochs\"\n",
    "\n",
    "command = [\"nnUNetv2_train\", TARGET_DATASET, CONFIG, FOLD, \n",
    "           \"-pretrained_weights\", PATH_TO_CHECKPOINT, \"-p\", \"totseg_nnUNetPlans\", \"-tr\", TRAINER]\n",
    "subprocess.check_call(command)"
   ]
  }
 ],
 "metadata": {
  "kernelspec": {
   "display_name": "totalsegmentator",
   "language": "python",
   "name": "python3"
  },
  "language_info": {
   "codemirror_mode": {
    "name": "ipython",
    "version": 3
   },
   "file_extension": ".py",
   "mimetype": "text/x-python",
   "name": "python",
   "nbconvert_exporter": "python",
   "pygments_lexer": "ipython3",
   "version": "3.10.12"
  }
 },
 "nbformat": 4,
 "nbformat_minor": 2
}
