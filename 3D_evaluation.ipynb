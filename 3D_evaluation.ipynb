{
 "cells": [
  {
   "cell_type": "markdown",
   "metadata": {},
   "source": [
    "# Project\n",
    "\n",
    "1. Fine tune nnUNet_v2 with Total Segmentator checkpoint\n",
    "2. Predict the test set for:\n",
    "    - TotalSegmentator\n",
    "    - TotalSegmentator fine tuned\n",
    "3. Plot results\n"
   ]
  },
  {
   "cell_type": "markdown",
   "metadata": {},
   "source": [
    "#### 1. Fine tune\n",
    "- Run plan_and_preprocess.py\n",
    "- Run fine_tune.py"
   ]
  },
  {
   "cell_type": "markdown",
   "metadata": {},
   "source": [
    "#### 2. Predict\n"
   ]
  },
  {
   "cell_type": "code",
   "execution_count": 1,
   "metadata": {},
   "outputs": [],
   "source": [
    "import subprocess, os, sys\n",
    "from pathlib import Path\n",
    "import shutil\n",
    "\n",
    "redo_inference = True\n",
    "\n",
    "path = Path(\"/media/data/matteo.fusconi/TOTALSEGMENTATOR/nnUNet_raw/Dataset004_Femur/\")\n",
    "i_paths = sorted((path / \"imagesTs\").iterdir())\n",
    "labels = sorted((path / \"labelsTs\").iterdir())\n",
    "\n",
    "base_out_path = Path(\"/media/data/matteo.fusconi/TOTALSEGMENTATOR/evaluation\")\n",
    "out_dir = base_out_path / \"predictions_TS\"\n",
    "\n",
    "redo_inference = True\n",
    "\n",
    "os.environ['nnUNet_raw'] = '/media/data/matteo.fusconi/TOTALSEGMENTATOR/nnUNet_raw'\n",
    "os.environ['nnUNet_preprocessed'] = '/media/data/matteo.fusconi/TOTALSEGMENTATOR/nnUNet_preprocessed'\n",
    "os.environ['nnUNet_results'] = '/media/data/matteo.fusconi/TOTALSEGMENTATOR/nnUNet_results'\n",
    "\n",
    "out_dir = Path(\"/media/data/matteo.fusconi/TOTALSEGMENTATOR/evaluation/predictions_TS_finetuned\")\n"
   ]
  },
  {
   "cell_type": "code",
   "execution_count": 23,
   "metadata": {},
   "outputs": [
    {
     "name": "stderr",
     "output_type": "stream",
     "text": [
      "100%|██████████| 8/8 [00:00<00:00,  9.86it/s]\n",
      "100%|██████████| 8/8 [00:00<00:00, 60.30it/s]\n",
      "100%|██████████| 8/8 [00:00<00:00, 61.82it/s]\n",
      "100%|██████████| 8/8 [00:00<00:00, 60.80it/s]\n",
      "100%|██████████| 8/8 [00:00<00:00, 70.87it/s]\n",
      "100%|██████████| 117/117 [00:03<00:00, 34.31it/s]\n"
     ]
    },
    {
     "name": "stdout",
     "output_type": "stream",
     "text": [
      "\n"
     ]
    },
    {
     "name": "stderr",
     "output_type": "stream",
     "text": [
      "100%|██████████| 16/16 [00:01<00:00, 15.10it/s]\n",
      "100%|██████████| 16/16 [00:00<00:00, 41.22it/s]\n",
      "100%|██████████| 16/16 [00:00<00:00, 41.94it/s]\n",
      "100%|██████████| 16/16 [00:00<00:00, 41.42it/s]\n",
      "100%|██████████| 16/16 [00:00<00:00, 43.35it/s]\n",
      "100%|██████████| 117/117 [00:03<00:00, 37.45it/s]\n"
     ]
    },
    {
     "name": "stdout",
     "output_type": "stream",
     "text": [
      "\n"
     ]
    },
    {
     "name": "stderr",
     "output_type": "stream",
     "text": [
      "100%|██████████| 12/12 [00:00<00:00, 12.57it/s]\n",
      "100%|██████████| 12/12 [00:00<00:00, 45.62it/s]\n",
      "100%|██████████| 12/12 [00:00<00:00, 46.46it/s]\n",
      "100%|██████████| 12/12 [00:00<00:00, 45.86it/s]\n",
      "100%|██████████| 12/12 [00:00<00:00, 49.23it/s]\n",
      "100%|██████████| 117/117 [00:02<00:00, 54.50it/s]\n"
     ]
    },
    {
     "name": "stdout",
     "output_type": "stream",
     "text": [
      "\n"
     ]
    },
    {
     "name": "stderr",
     "output_type": "stream",
     "text": [
      "100%|██████████| 6/6 [00:00<00:00,  7.92it/s]\n",
      "100%|██████████| 6/6 [00:00<00:00, 84.09it/s]\n",
      "100%|██████████| 6/6 [00:00<00:00, 88.74it/s]\n",
      "100%|██████████| 6/6 [00:00<00:00, 86.90it/s]\n",
      "100%|██████████| 6/6 [00:00<00:00, 116.99it/s]\n",
      "100%|██████████| 117/117 [00:02<00:00, 42.49it/s]\n"
     ]
    },
    {
     "name": "stdout",
     "output_type": "stream",
     "text": [
      "\n"
     ]
    },
    {
     "name": "stderr",
     "output_type": "stream",
     "text": [
      "100%|██████████| 8/8 [00:00<00:00,  9.83it/s]\n",
      "100%|██████████| 8/8 [00:00<00:00, 57.73it/s]\n",
      "100%|██████████| 8/8 [00:00<00:00, 59.19it/s]\n",
      "100%|██████████| 8/8 [00:00<00:00, 58.20it/s]\n",
      "100%|██████████| 8/8 [00:00<00:00, 67.31it/s]\n",
      "100%|██████████| 117/117 [00:02<00:00, 42.38it/s]\n"
     ]
    },
    {
     "name": "stdout",
     "output_type": "stream",
     "text": [
      "\n"
     ]
    },
    {
     "name": "stderr",
     "output_type": "stream",
     "text": [
      "100%|██████████| 16/16 [00:01<00:00, 14.76it/s]\n",
      "100%|██████████| 16/16 [00:00<00:00, 41.03it/s]\n",
      "100%|██████████| 16/16 [00:00<00:00, 41.74it/s]\n",
      "100%|██████████| 16/16 [00:00<00:00, 41.23it/s]\n",
      "100%|██████████| 16/16 [00:00<00:00, 43.14it/s]\n",
      "100%|██████████| 117/117 [00:02<00:00, 43.27it/s]\n"
     ]
    },
    {
     "name": "stdout",
     "output_type": "stream",
     "text": [
      "\n"
     ]
    },
    {
     "name": "stderr",
     "output_type": "stream",
     "text": [
      "100%|██████████| 8/8 [00:00<00:00,  9.80it/s]\n",
      "100%|██████████| 8/8 [00:00<00:00, 57.62it/s]\n",
      "100%|██████████| 8/8 [00:00<00:00, 59.07it/s]\n",
      "100%|██████████| 8/8 [00:00<00:00, 58.14it/s]\n",
      "100%|██████████| 8/8 [00:00<00:00, 67.01it/s]\n",
      "100%|██████████| 117/117 [00:02<00:00, 39.63it/s]\n"
     ]
    },
    {
     "name": "stdout",
     "output_type": "stream",
     "text": [
      "\n"
     ]
    },
    {
     "name": "stderr",
     "output_type": "stream",
     "text": [
      "100%|██████████| 8/8 [00:00<00:00,  9.89it/s]\n",
      "100%|██████████| 8/8 [00:00<00:00, 57.63it/s]\n",
      "100%|██████████| 8/8 [00:00<00:00, 59.00it/s]\n",
      "100%|██████████| 8/8 [00:00<00:00, 58.17it/s]\n",
      "100%|██████████| 8/8 [00:00<00:00, 67.10it/s]\n",
      "100%|██████████| 117/117 [00:03<00:00, 34.66it/s]\n"
     ]
    },
    {
     "name": "stdout",
     "output_type": "stream",
     "text": [
      "\n"
     ]
    }
   ],
   "source": [
    "for pth, lab in zip(i_paths, labels):\n",
    "    if redo_inference:\n",
    "        subprocess.check_output([\"TotalSegmentator\", \n",
    "                       \"-i\", str(pth),\n",
    "                       \"-o\", str(out_dir / lab.name),\n",
    "                       ])\n",
    "    print()\n",
    "    shutil.copy(str(lab), str(out_dir/\"..\"/\"gt\"/lab.name))\n",
    "    for prediction in (out_dir / lab.name).iterdir():\n",
    "        if prediction.name not in [\"femur_left.nii.gz\", \"femur_right.nii.gz\"]:\n",
    "            prediction.unlink()"
   ]
  },
  {
   "cell_type": "code",
   "execution_count": 3,
   "metadata": {},
   "outputs": [],
   "source": [
    "import SimpleITK as sitk\n",
    "import numpy as np\n",
    "\n",
    "def calculate_metrics(gtMask, predMask):\n",
    "    # Convert to NumPy arrays if they aren't already\n",
    "    gtMask = np.array(gtMask)\n",
    "    predMask = np.array(predMask)\n",
    "\n",
    "    # Calculate the true positives (TP), false positives (FP), and false negatives (FN)\n",
    "    tp = np.sum((gtMask == 1) & (predMask == 1))\n",
    "    fp = np.sum((gtMask == 0) & (predMask == 1))\n",
    "    fn = np.sum((gtMask == 1) & (predMask == 0))\n",
    "\n",
    "    # Calculate IoU\n",
    "    iou = tp / (tp + fp + fn)\n",
    "    dice = 2*tp / (np.sum(predMask)+np.sum(gtMask))\n",
    "\n",
    "    return iou, dice\n",
    "\n",
    "\n",
    "def calculate_3Dmetrics(gtMask, predMask):\n",
    "    # Convert to NumPy arrays if they aren't already\n",
    "    gtMask = np.array(gtMask)\n",
    "    predMask = np.array(predMask)\n",
    "\n",
    "    # Calculate the true positives (TP), false positives (FP), and false negatives (FN)\n",
    "    tp = np.sum((gtMask == 1) & (predMask == 1))\n",
    "    fp = np.sum((gtMask == 0) & (predMask == 1))\n",
    "    fn = np.sum((gtMask == 1) & (predMask == 0))\n",
    "\n",
    "    vol_gt = np.sum(gtMask)\n",
    "    vol_pr = np.sum(predMask)\n",
    "\n",
    "    # Calculate IoU\n",
    "    iou = tp / (tp + fp + fn)\n",
    "    dice = 2*tp / (vol_gt+vol_pr)\n",
    "    volume_sym = 1 - (vol_gt - vol_pr) / (vol_gt+vol_pr)\n",
    "\n",
    "    return iou, dice, volume_sym\n"
   ]
  },
  {
   "cell_type": "code",
   "execution_count": 14,
   "metadata": {},
   "outputs": [],
   "source": [
    "left = sitk.ReadImage(\"/media/data/matteo.fusconi/TOTALSEGMENTATOR/evaluation/predictions/image_033.nii.gz/femur_left.nii.gz\")\n",
    "right = sitk.ReadImage(\"/media/data/matteo.fusconi/TOTALSEGMENTATOR/evaluation/predictions/image_033.nii.gz/femur_right.nii.gz\")"
   ]
  },
  {
   "cell_type": "code",
   "execution_count": 5,
   "metadata": {},
   "outputs": [
    {
     "name": "stdout",
     "output_type": "stream",
     "text": [
      "Mean IoU  Score: 0.914405371338184 pm 0.01644786887800741\n",
      "Mean Dice Score: 0.9552116190565139 pm 0.009028235301327158\n",
      "Mean Vol Symil.: 1.036204394958821 pm 0.013141720289099573\n"
     ]
    }
   ],
   "source": [
    "totseg = True\n",
    "out_dir = base_out_path / \"predictions_TS\"\n",
    "gt_paths = [out_dir/\"..\"/\"gt\"/lab.name for lab in labels]\n",
    "totseg_paths = [out_dir / lab.name for lab in labels]\n",
    "\n",
    "dices = []\n",
    "ious = []\n",
    "vol_sym = []\n",
    "\n",
    "for gt_p, pred_p in zip(gt_paths, totseg_paths):\n",
    "    gt = sitk.GetArrayFromImage(sitk.ReadImage(gt_p))\n",
    "    if totseg:\n",
    "        pred_left = sitk.GetArrayFromImage(sitk.ReadImage(pred_p / \"femur_left.nii.gz\"))\n",
    "        pred_right = sitk.GetArrayFromImage(sitk.ReadImage(pred_p / \"femur_right.nii.gz\"))\n",
    "        pred = np.clip(pred_left+pred_right, 0, 1)\n",
    "    else:\n",
    "        image = sitk.ReadImage(pred_p)\n",
    "        pred = sitk.GetArrayFromImage(image)\n",
    "\n",
    "    iou, dice, vol = calculate_3Dmetrics(gt, pred)\n",
    "\n",
    "\n",
    "    ious.append(iou)\n",
    "    dices.append(dice)\n",
    "    vol_sym.append(vol)\n",
    "\n",
    "mIoU = np.mean(ious)\n",
    "mDice = np.mean(dices)\n",
    "mVol = np.mean(vol_sym)\n",
    "\n",
    "print(f\"Mean IoU  Score: {mIoU} pm {np.std(ious)}\")\n",
    "print(f\"Mean Dice Score: {mDice} pm {np.std(dices)}\")\n",
    "print(f\"Mean Vol Symil.: {mVol} pm {np.std(vol_sym)}\")\n"
   ]
  },
  {
   "cell_type": "code",
   "execution_count": 8,
   "metadata": {},
   "outputs": [
    {
     "data": {
      "text/plain": [
       "(300, 336, 256)"
      ]
     },
     "execution_count": 8,
     "metadata": {},
     "output_type": "execute_result"
    }
   ],
   "source": [
    "pred.shape"
   ]
  },
  {
   "cell_type": "code",
   "execution_count": 4,
   "metadata": {},
   "outputs": [
    {
     "name": "stderr",
     "output_type": "stream",
     "text": [
      "/tmp/ipykernel_217672/1963030436.py:15: RuntimeWarning: invalid value encountered in scalar divide\n",
      "  iou = tp / (tp + fp + fn)\n",
      "/tmp/ipykernel_217672/1963030436.py:16: RuntimeWarning: invalid value encountered in scalar divide\n",
      "  dice = 2*tp / (np.sum(predMask)+np.sum(gtMask))\n"
     ]
    },
    {
     "name": "stdout",
     "output_type": "stream",
     "text": [
      "axial :\n",
      "Mean IoU  Score: 0.916697760118645 pm 0.05017810201634985\n",
      "Mean Dice Score: 0.9556269810415451 pm 0.03553176788144167\n",
      "\n",
      "sagittal :\n",
      "Mean IoU  Score: 0.8687653755885296 pm 0.11021271292692104\n",
      "Mean Dice Score: 0.9247744172514775 pm 0.08671742056664337\n",
      "\n",
      "coronal :\n",
      "Mean IoU  Score: 0.8969834947608848 pm 0.08637232296524915\n",
      "Mean Dice Score: 0.9428629094781924 pm 0.06289439288313563\n",
      "\n",
      "total :\n",
      "Mean IoU  Score: 0.8988000253120708 pm 0.08239667243817296\n",
      "Mean Dice Score: 0.9440825146288226 pm 0.06152809939804095\n",
      "\n"
     ]
    }
   ],
   "source": [
    "# SCORE 2D\n",
    "totseg = True\n",
    "out_dir = base_out_path / \"predictions_TS\"\n",
    "\n",
    "gt_paths = [out_dir/\"..\"/\"gt\"/lab.name for lab in labels]\n",
    "totseg_paths = [out_dir / lab.name for lab in labels]\n",
    "\n",
    "\n",
    "iou_axial, dice_axial   = [], []\n",
    "iou_coronal, dice_coronal   = [], []\n",
    "iou_sagittal, dice_sagittal = [], []\n",
    "\n",
    "for gt_p, pred_p in zip(gt_paths, totseg_paths):\n",
    "    gt = sitk.GetArrayFromImage(sitk.ReadImage(gt_p))\n",
    "    if totseg:\n",
    "        pred_left = sitk.GetArrayFromImage(sitk.ReadImage(pred_p / \"femur_left.nii.gz\"))\n",
    "        pred_right = sitk.GetArrayFromImage(sitk.ReadImage(pred_p / \"femur_right.nii.gz\"))\n",
    "        pred = np.clip(pred_left+pred_right, 0, 1)\n",
    "    else:\n",
    "        image = sitk.ReadImage(pred_p)\n",
    "        pred = sitk.GetArrayFromImage(image)\n",
    "\n",
    "    axial, sagittal, coronal = pred.shape\n",
    "\n",
    "    # AXIAL\n",
    "    for idx in range(axial):\n",
    "        slice_gt = gt[idx]\n",
    "        slice_pred = pred[idx]\n",
    "        \n",
    "        iou, dice = calculate_metrics(slice_gt, slice_pred)\n",
    "\n",
    "        if iou is not np.nan and iou > 0.:\n",
    "            iou_axial.append(iou)\n",
    "            dice_axial.append(dice)\n",
    "\n",
    "    # SAGITTAL\n",
    "    for idx in range(sagittal):\n",
    "        slice_gt = gt[:,idx]\n",
    "        slice_pred = pred[:,idx]\n",
    "        \n",
    "        iou, dice = calculate_metrics(slice_gt, slice_pred)\n",
    "\n",
    "        if iou is not np.nan and iou > 0.:\n",
    "            iou_sagittal.append(iou)\n",
    "            dice_sagittal.append(dice)\n",
    "    \n",
    "    # CORONAL\n",
    "    for idx in range(coronal):\n",
    "        slice_gt = gt[...,idx]\n",
    "        slice_pred = pred[...,idx]\n",
    "        \n",
    "        iou, dice = calculate_metrics(slice_gt, slice_pred)\n",
    "\n",
    "        if iou is not np.nan and iou > 0.:\n",
    "            iou_coronal.append(iou)\n",
    "            dice_coronal.append(dice)\n",
    "\n",
    "names = (\"axial\", \"sagittal\", \"coronal\", \"total\")\n",
    "\n",
    "mIoU = (np.mean(iou_axial), np.mean(iou_sagittal) ,np.mean(iou_coronal), np.mean(iou_axial+iou_coronal+iou_sagittal))\n",
    "mDice = (np.mean(dice_axial), np.mean(dice_sagittal) ,np.mean(dice_coronal), np.mean(dice_axial+dice_coronal+dice_sagittal))\n",
    "\n",
    "stdIoU = (np.std(iou_axial), np.std(iou_sagittal) ,np.std(iou_coronal), np.std(iou_axial+iou_coronal+iou_sagittal))\n",
    "stdDice = (np.std(dice_axial), np.std(dice_sagittal) ,np.std(dice_coronal), np.std(dice_axial+dice_coronal+dice_sagittal))\n",
    "for i in range(4):\n",
    "    print(names[i], \":\")\n",
    "    print(f\"Mean IoU  Score: {mIoU[i]} pm {(stdIoU[i])}\")\n",
    "    print(f\"Mean Dice Score: {mDice[i]} pm {(stdDice[i])}\")\n",
    "    print()"
   ]
  },
  {
   "cell_type": "markdown",
   "metadata": {},
   "source": [
    "### Total Segmentator Fine-Tuned"
   ]
  },
  {
   "cell_type": "code",
   "execution_count": 3,
   "metadata": {},
   "outputs": [],
   "source": [
    "import subprocess, os, sys\n",
    "from pathlib import Path\n",
    "import shutil\n",
    "import SimpleITK as sitk\n",
    "\n",
    "redo_inference = True\n",
    "\n",
    "path = Path(\"/media/data/matteo.fusconi/TOTALSEGMENTATOR/nnUNet_raw/Dataset004_Femur/\")\n",
    "i_paths = sorted((path / \"imagesTs\").iterdir())\n",
    "labels = sorted((path / \"labelsTs\").iterdir())\n",
    "\n",
    "base_out_path = Path(\"/media/data/matteo.fusconi/TOTALSEGMENTATOR/evaluation\")\n",
    "out_dir = base_out_path / \"predictions_TS\""
   ]
  },
  {
   "cell_type": "code",
   "execution_count": 4,
   "metadata": {},
   "outputs": [
    {
     "name": "stderr",
     "output_type": "stream",
     "text": [
      "/media/data/matteo.fusconi/venv/totalsegmentator/lib/python3.10/site-packages/nnunetv2/utilities/plans_handling/plans_handler.py:37: UserWarning: Detected old nnU-Net plans format. Attempting to reconstruct network architecture parameters. If this fails, rerun nnUNetv2_plan_experiment for your dataset. If you use a custom architecture, please downgrade nnU-Net to the version you implemented this or update your implementation + plans.\n",
      "  warnings.warn(\"Detected old nnU-Net plans format. Attempting to reconstruct network architecture \"\n",
      "100%|██████████| 12/12 [00:03<00:00,  3.55it/s]\n",
      "100%|██████████| 12/12 [00:02<00:00,  4.36it/s]\n",
      "100%|██████████| 12/12 [00:02<00:00,  4.35it/s]\n",
      "100%|██████████| 12/12 [00:02<00:00,  4.34it/s]\n",
      "100%|██████████| 12/12 [00:02<00:00,  4.33it/s]\n",
      "100%|██████████| 20/20 [00:04<00:00,  4.24it/s]\n",
      "100%|██████████| 20/20 [00:04<00:00,  4.23it/s]\n",
      "100%|██████████| 20/20 [00:04<00:00,  4.22it/s]\n",
      "100%|██████████| 20/20 [00:04<00:00,  4.20it/s]\n",
      "100%|██████████| 20/20 [00:04<00:00,  4.19it/s]\n",
      "100%|██████████| 16/16 [00:03<00:00,  4.21it/s]\n",
      "100%|██████████| 16/16 [00:03<00:00,  4.21it/s]\n",
      "100%|██████████| 16/16 [00:03<00:00,  4.21it/s]\n",
      "100%|██████████| 16/16 [00:03<00:00,  4.20it/s]\n",
      "100%|██████████| 16/16 [00:03<00:00,  4.20it/s]\n",
      "100%|██████████| 8/8 [00:01<00:00,  4.34it/s]\n",
      "100%|██████████| 8/8 [00:01<00:00,  4.34it/s]\n",
      "100%|██████████| 8/8 [00:01<00:00,  4.33it/s]\n",
      "100%|██████████| 8/8 [00:01<00:00,  4.33it/s]\n",
      "100%|██████████| 8/8 [00:01<00:00,  4.33it/s]\n",
      "100%|██████████| 10/10 [00:02<00:00,  4.27it/s]\n",
      "100%|██████████| 10/10 [00:02<00:00,  4.27it/s]\n",
      "100%|██████████| 10/10 [00:02<00:00,  4.27it/s]\n",
      "100%|██████████| 10/10 [00:02<00:00,  4.27it/s]\n",
      "100%|██████████| 10/10 [00:02<00:00,  4.27it/s]\n",
      "100%|██████████| 24/24 [00:05<00:00,  4.13it/s]\n",
      "100%|██████████| 24/24 [00:05<00:00,  4.13it/s]\n",
      "100%|██████████| 24/24 [00:05<00:00,  4.12it/s]\n",
      "100%|██████████| 24/24 [00:05<00:00,  4.12it/s]\n",
      "100%|██████████| 24/24 [00:05<00:00,  4.12it/s]\n",
      "100%|██████████| 10/10 [00:02<00:00,  4.26it/s]\n",
      "100%|██████████| 10/10 [00:02<00:00,  4.26it/s]\n",
      "100%|██████████| 10/10 [00:02<00:00,  4.26it/s]\n",
      "100%|██████████| 10/10 [00:02<00:00,  4.26it/s]\n",
      "100%|██████████| 10/10 [00:02<00:00,  4.26it/s]\n",
      "100%|██████████| 12/12 [00:02<00:00,  4.22it/s]\n",
      "100%|██████████| 12/12 [00:02<00:00,  4.22it/s]\n",
      "100%|██████████| 12/12 [00:02<00:00,  4.22it/s]\n",
      "100%|██████████| 12/12 [00:02<00:00,  4.23it/s]\n",
      "100%|██████████| 12/12 [00:02<00:00,  4.23it/s]\n"
     ]
    },
    {
     "data": {
      "text/plain": [
       "'shutil.copy(str(lab), str(out_dir/\"..\"/\"gt\"/lab.name))\\n    for prediction in (out_dir / lab.name).iterdir():\\n        if prediction.name not in [\"femur_left.nii.gz\", \"femur_right.nii.gz\"]:\\n            prediction.unlink()'"
      ]
     },
     "execution_count": 4,
     "metadata": {},
     "output_type": "execute_result"
    }
   ],
   "source": [
    "command =  [\"nnUNetv2_predict\", \n",
    "            \"-i\", str((path / \"imagesTs\")),\n",
    "            \"-o\", str(out_dir),\n",
    "            \"-d\", \"4\",\n",
    "            \"-c\", \"3d_fullres\",\n",
    "            \"-p\", \"totseg_nnUNetPlans\",\n",
    "            \"-tr\", \"nnUNetTrainer_20epochs\",\n",
    "]\n",
    "subprocess.check_output(command)"
   ]
  },
  {
   "cell_type": "code",
   "execution_count": 6,
   "metadata": {},
   "outputs": [
    {
     "name": "stdout",
     "output_type": "stream",
     "text": [
      "Mean IoU  Score: 0.7528799998041585 pm 0.04321675264668205\n",
      "Mean Dice Score: 0.8583252946800203 pm 0.02821011702246174\n",
      "Mean Vol Symil.: 0.9909744277091789 pm 0.03768022976130416\n"
     ]
    }
   ],
   "source": [
    "totseg = False\n",
    "base_out_path = Path(\"/media/data/matteo.fusconi/TOTALSEGMENTATOR/evaluation\")\n",
    "\n",
    "out_ts_finetuned = base_out_path / \"predictions_TS_finetuned\"\n",
    "\n",
    "gt_paths = [base_out_path/\"gt\"/lab.name for lab in labels]\n",
    "totseg_paths = [out_ts_finetuned / lab.name for lab in labels]\n",
    "\n",
    "dices = []\n",
    "ious = []\n",
    "vol_sim = []\n",
    "\n",
    "for gt_p, pred_p in zip(gt_paths, totseg_paths):\n",
    "    gt = sitk.GetArrayFromImage(sitk.ReadImage(gt_p))\n",
    "    if totseg:\n",
    "        pred_left = sitk.GetArrayFromImage(sitk.ReadImage(pred_p / \"femur_left.nii.gz\"))\n",
    "        pred_right = sitk.GetArrayFromImage(sitk.ReadImage(pred_p / \"femur_right.nii.gz\"))\n",
    "        pred = np.clip(pred_left+pred_right, 0, 1)\n",
    "    else:\n",
    "        image = sitk.ReadImage(pred_p)\n",
    "        pred = sitk.GetArrayFromImage(image)\n",
    "\n",
    "    iou, dice, vol = calculate_3Dmetrics(gt, pred)\n",
    "\n",
    "\n",
    "    ious.append(iou)\n",
    "    dices.append(dice)\n",
    "    vol_sim.append(vol)\n",
    "\n",
    "mIoU = np.mean(ious)\n",
    "mDice = np.mean(dices)\n",
    "mVol = np.mean(vol_sim)\n",
    "\n",
    "print(f\"Mean IoU  Score: {mIoU} pm {np.std(ious)}\")\n",
    "print(f\"Mean Dice Score: {mDice} pm {np.std(dices)}\")\n",
    "print(f\"Mean Vol Symil.: {mVol} pm {np.std(vol_sim)}\")\n",
    "\n",
    "# print(ious, dices)"
   ]
  },
  {
   "cell_type": "code",
   "execution_count": 23,
   "metadata": {},
   "outputs": [
    {
     "name": "stderr",
     "output_type": "stream",
     "text": [
      "/tmp/ipykernel_202801/119295563.py:15: RuntimeWarning: invalid value encountered in scalar divide\n",
      "  iou = tp / (tp + fp + fn)\n",
      "/tmp/ipykernel_202801/119295563.py:16: RuntimeWarning: invalid value encountered in scalar divide\n",
      "  dice = 2*tp / (np.sum(predMask)+np.sum(gtMask))\n"
     ]
    },
    {
     "name": "stdout",
     "output_type": "stream",
     "text": [
      "axial :\n",
      "Mean IoU  Score: 0.8570864324835585 pm 0.13743258878289794\n",
      "Mean Dice Score: 0.9142926867214963 pm 0.12014417472163898\n",
      "\n",
      "sagittal :\n",
      "Mean IoU  Score: 0.6468989639179642 pm 0.22073906868962614\n",
      "Mean Dice Score: 0.75860564040966 pm 0.2046557064760071\n",
      "\n",
      "coronal :\n",
      "Mean IoU  Score: 0.7142828791749091 pm 0.18889004307123028\n",
      "Mean Dice Score: 0.8166506044203731 pm 0.1536421474105353\n",
      "\n",
      "total :\n",
      "Mean IoU  Score: 0.7611725668008511 pm 0.19760052311053783\n",
      "Mean Dice Score: 0.8459910631954837 pm 0.1668002443090423\n",
      "\n"
     ]
    }
   ],
   "source": [
    "totseg = False\n",
    "base_out_path = Path(\"/media/data/matteo.fusconi/TOTALSEGMENTATOR/evaluation\")\n",
    "\n",
    "out_ts_finetuned = base_out_path / \"predictions_TS_finetuned\"\n",
    "\n",
    "gt_paths = [base_out_path/\"gt\"/lab.name for lab in labels]\n",
    "totseg_paths = [out_ts_finetuned / lab.name for lab in labels]\n",
    "\n",
    "iou_axial, dice_axial   = [], []\n",
    "iou_coronal, dice_coronal   = [], []\n",
    "iou_sagittal, dice_sagittal = [], []\n",
    "\n",
    "\n",
    "for gt_p, pred_p in zip(gt_paths, totseg_paths):\n",
    "    gt = sitk.GetArrayFromImage(sitk.ReadImage(gt_p))\n",
    "    if totseg:\n",
    "        pred_left = sitk.GetArrayFromImage(sitk.ReadImage(pred_p / \"femur_left.nii.gz\"))\n",
    "        pred_right = sitk.GetArrayFromImage(sitk.ReadImage(pred_p / \"femur_right.nii.gz\"))\n",
    "        pred = np.clip(pred_left+pred_right, 0, 1)\n",
    "    else:\n",
    "        image = sitk.ReadImage(pred_p)\n",
    "        pred = sitk.GetArrayFromImage(image)\n",
    "\n",
    "\n",
    "    axial, sagittal, coronal = pred.shape\n",
    "\n",
    "    # AXIAL\n",
    "    for idx in range(axial):\n",
    "        slice_gt = gt[idx]\n",
    "        slice_pred = pred[idx]\n",
    "        \n",
    "        iou, dice = calculate_metrics(slice_gt, slice_pred)\n",
    "\n",
    "        if iou is not np.nan and iou > 0.:\n",
    "            iou_axial.append(iou)\n",
    "            dice_axial.append(dice)\n",
    "\n",
    "    # SAGITTAL\n",
    "    for idx in range(sagittal):\n",
    "        slice_gt = gt[:,idx]\n",
    "        slice_pred = pred[:,idx]\n",
    "        \n",
    "        iou, dice = calculate_metrics(slice_gt, slice_pred)\n",
    "\n",
    "        if iou is not np.nan and iou > 0.:\n",
    "            iou_sagittal.append(iou)\n",
    "            dice_sagittal.append(dice)\n",
    "    \n",
    "    # CORONAL\n",
    "    for idx in range(coronal):\n",
    "        slice_gt = gt[...,idx]\n",
    "        slice_pred = pred[...,idx]\n",
    "        \n",
    "        iou, dice = calculate_metrics(slice_gt, slice_pred)\n",
    "\n",
    "        if iou is not np.nan and iou > 0.:\n",
    "            iou_coronal.append(iou)\n",
    "            dice_coronal.append(dice)\n",
    "\n",
    "names = (\"axial\", \"sagittal\", \"coronal\", \"total\")\n",
    "\n",
    "mIoU = (np.mean(iou_axial), np.mean(iou_sagittal) ,np.mean(iou_coronal), np.mean(iou_axial+iou_coronal+iou_sagittal))\n",
    "mDice = (np.mean(dice_axial), np.mean(dice_sagittal) ,np.mean(dice_coronal), np.mean(dice_axial+dice_coronal+dice_sagittal))\n",
    "\n",
    "stdIoU = (np.std(iou_axial), np.std(iou_sagittal) ,np.std(iou_coronal), np.std(iou_axial+iou_coronal+iou_sagittal))\n",
    "stdDice = (np.std(dice_axial), np.std(dice_sagittal) ,np.std(dice_coronal), np.std(dice_axial+dice_coronal+dice_sagittal))\n",
    "for i in range(4):\n",
    "    print(names[i], \":\")\n",
    "    print(f\"Mean IoU  Score: {mIoU[i]} pm {(stdIoU[i])}\")\n",
    "    print(f\"Mean Dice Score: {mDice[i]} pm {(stdDice[i])}\")\n",
    "    print()"
   ]
  }
 ],
 "metadata": {
  "kernelspec": {
   "display_name": "totalsegmentator",
   "language": "python",
   "name": "python3"
  },
  "language_info": {
   "codemirror_mode": {
    "name": "ipython",
    "version": 3
   },
   "file_extension": ".py",
   "mimetype": "text/x-python",
   "name": "python",
   "nbconvert_exporter": "python",
   "pygments_lexer": "ipython3",
   "version": "3.10.12"
  }
 },
 "nbformat": 4,
 "nbformat_minor": 2
}
