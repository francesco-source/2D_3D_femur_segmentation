{
  "cells": [
    {
      "cell_type": "markdown",
      "metadata": {},
      "source": [
        "## 2D segmentation over 3D full femur images"
      ]
    },
    {
      "cell_type": "markdown",
      "metadata": {},
      "source": [
        "##### Preparing the images for the training"
      ]
    },
    {
      "cell_type": "code",
      "execution_count": null,
      "metadata": {},
      "outputs": [],
      "source": [
        "!pip install torch torchvision\n",
        "!pip install opencv-python-headless\n",
        "!pip install albumentations\n",
        "!pip install nibabel\n",
        "!pip install matplotlib\n",
        "!pip install SimpleITK\n",
        "!pip install Pillow"
      ]
    },
    {
      "cell_type": "code",
      "execution_count": null,
      "metadata": {
        "colab": {
          "base_uri": "https://localhost:8080/"
        },
        "id": "NFfiTRKSr7J5",
        "outputId": "bed58d6e-a7ff-495a-e483-750d0f53b75f"
      },
      "outputs": [
        {
          "name": "stdout",
          "output_type": "stream",
          "text": [
            "Mounted at /content/drive\n"
          ]
        }
      ],
      "source": [
        "from google.colab import drive\n",
        "drive.mount('/content/drive')\n"
      ]
    },
    {
      "cell_type": "code",
      "execution_count": null,
      "metadata": {},
      "outputs": [],
      "source": [
        "from analysis import *\n",
        "from datasets import *\n",
        "from inference import *\n",
        "from metrics import *\n",
        "from train import * \n",
        "from visualize import *"
      ]
    },
    {
      "cell_type": "code",
      "execution_count": null,
      "metadata": {
        "colab": {
          "base_uri": "https://localhost:8080/"
        },
        "id": "a5L2CfTgtg1z",
        "outputId": "2dd19de5-04c0-4b02-ba13-4d13c52e65f3"
      },
      "outputs": [
        {
          "name": "stdout",
          "output_type": "stream",
          "text": [
            "NRRD file number 1 is being converted...\n",
            "NRRD file number 2 is being converted...\n",
            "NRRD file number 3 is being converted...\n",
            "NRRD file number 4 is being converted...\n",
            "NRRD file number 5 is being converted...\n",
            "NRRD file number 6 is being converted...\n",
            "NRRD file number 7 is being converted...\n",
            "NRRD file number 8 is being converted...\n",
            "NRRD file number 9 is being converted...\n",
            "NRRD file number 10 is being converted...\n",
            "NRRD file number 11 is being converted...\n",
            "NRRD file number 12 is being converted...\n",
            "NRRD file number 13 is being converted...\n",
            "NRRD file number 14 is being converted...\n",
            "NRRD file number 15 is being converted...\n",
            "NRRD file number 16 is being converted...\n",
            "NRRD file number 17 is being converted...\n",
            "NRRD file number 18 is being converted...\n",
            "NRRD file number 19 is being converted...\n",
            "NRRD file number 20 is being converted...\n",
            "NRRD file number 21 is being converted...\n",
            "NRRD file number 22 is being converted...\n",
            "NRRD file number 23 is being converted...\n",
            "NRRD file number 24 is being converted...\n",
            "NRRD file number 25 is being converted...\n",
            "NRRD file number 26 is being converted...\n",
            "NRRD file number 27 is being converted...\n",
            "NRRD file number 28 is being converted...\n",
            "NRRD file number 29 is being converted...\n",
            "NRRD file number 30 is being converted...\n",
            "NRRD file number 31 is being converted...\n",
            "NRRD file number 32 is being converted...\n",
            "NRRD file number 33 is being converted...\n",
            "NRRD file number 34 is being converted...\n",
            "NRRD file number 35 is being converted...\n",
            "NRRD file number 36 is being converted...\n",
            "NRRD file number 37 is being converted...\n",
            "NRRD file number 38 is being converted...\n",
            "NRRD file number 39 is being converted...\n",
            "NRRD file number 40 is being converted...\n",
            "\n",
            "There are 11622 number of images in the train set\n",
            "There are 3874 number of images in the validation set\n",
            "There are 3874 number of images in the test set\n",
            "\n"
          ]
        }
      ],
      "source": [
        "import albumentations as A\n",
        "from albumentations.pytorch import ToTensorV2\n",
        "\n",
        "root = r\"/content/drive/MyDrive/Runnare_fusco/NewPatients/NewPatients\"\n",
        "mean, std, im_h, im_w = [0.485, 0.456, 0.406], [0.229, 0.224, 0.225], 256, 256\n",
        "trans = A.Compose([\n",
        "    ToTensorV2(transpose_mask=True),\n",
        "])\n",
        "\n",
        "ds, tr_dl, val_dl, test_dl, n_cls = get_dlsfull(root = root, transformations = trans, bs = 16)"
      ]
    },
    {
      "cell_type": "markdown",
      "metadata": {
        "id": "I5FXVlcX-zek"
      },
      "source": [
        "# Resnet 50"
      ]
    },
    {
      "cell_type": "code",
      "execution_count": null,
      "metadata": {
        "colab": {
          "base_uri": "https://localhost:8080/"
        },
        "id": "ff7WVOHH6Sjj",
        "outputId": "86eadfa3-964b-4e8e-f95a-5fda2d562530"
      },
      "outputs": [
        {
          "name": "stderr",
          "output_type": "stream",
          "text": [
            "Downloading: \"https://download.pytorch.org/models/resnet50-19c8e357.pth\" to /root/.cache/torch/hub/checkpoints/resnet50-19c8e357.pth\n",
            "100%|██████████| 97.8M/97.8M [00:00<00:00, 116MB/s]\n"
          ]
        }
      ],
      "source": [
        "import segmentation_models_pytorch as smp, time\n",
        "model= smp.Unet(\n",
        "    encoder_name='resnet50',\n",
        "    encoder_weights=\"imagenet\",\n",
        "    encoder_depth=5,\n",
        "    in_channels=1,\n",
        "    classes=n_cls,\n",
        "    activation=None,\n",
        "    )"
      ]
    },
    {
      "cell_type": "code",
      "execution_count": null,
      "metadata": {},
      "outputs": [],
      "source": [
        "loss_fn = torch.nn.CrossEntropyLoss()\n",
        "optimizer = torch.optim.Adam(params = model.parameters(), lr = 3e-4)"
      ]
    },
    {
      "cell_type": "code",
      "execution_count": null,
      "metadata": {
        "id": "mD3IgpDLzx3V"
      },
      "outputs": [],
      "source": [
        "EPOCHS = 5"
      ]
    },
    {
      "cell_type": "code",
      "execution_count": null,
      "metadata": {
        "colab": {
          "base_uri": "https://localhost:8080/"
        },
        "collapsed": true,
        "id": "Pvg-5gqH7dOo",
        "outputId": "b1ae3684-3841-4836-ee68-8a64d45d072b"
      },
      "outputs": [
        {
          "name": "stdout",
          "output_type": "stream",
          "text": [
            "Start training process...\n",
            "Epoch 1 train process is started...\n"
          ]
        },
        {
          "name": "stderr",
          "output_type": "stream",
          "text": [
            "\r  0%|          | 0/727 [00:00<?, ?it/s]/usr/local/lib/python3.10/dist-packages/torch/nn/modules/conv.py:456: UserWarning: Plan failed with a cudnnException: CUDNN_BACKEND_EXECUTION_PLAN_DESCRIPTOR: cudnnFinalize Descriptor Failed cudnn_status: CUDNN_STATUS_NOT_SUPPORTED (Triggered internally at ../aten/src/ATen/native/cudnn/Conv_v8.cpp:919.)\n",
            "  return F.conv2d(input, weight, bias, self.stride,\n",
            "/usr/local/lib/python3.10/dist-packages/torch/autograd/graph.py:744: UserWarning: Plan failed with a cudnnException: CUDNN_BACKEND_EXECUTION_PLAN_DESCRIPTOR: cudnnFinalize Descriptor Failed cudnn_status: CUDNN_STATUS_NOT_SUPPORTED (Triggered internally at ../aten/src/ATen/native/cudnn/Conv_v8.cpp:919.)\n",
            "  return Variable._execution_engine.run_backward(  # Calls into the C++ engine to run the backward pass\n",
            "100%|██████████| 727/727 [03:57<00:00,  3.06it/s]\n"
          ]
        },
        {
          "name": "stdout",
          "output_type": "stream",
          "text": [
            "Epoch 1 validation process is started...\n"
          ]
        },
        {
          "name": "stderr",
          "output_type": "stream",
          "text": [
            "100%|██████████| 243/243 [00:27<00:00,  8.81it/s]\n"
          ]
        },
        {
          "name": "stdout",
          "output_type": "stream",
          "text": [
            "Epoch 1 train process is completed.\n",
            "\n",
            "~~~~~~~~~~~~~~~~~~~~~~~~~~~~~~~~~~~~~~~~~~~~~~~~~~\n",
            "\n",
            "Epoch 1 train process results: \n",
            "\n",
            "Train Time         -> 265.444 secs\n",
            "Train Loss         -> 0.065\n",
            "Train PA           -> 0.934\n",
            "Train IoU          -> 0.893\n",
            "Validation Loss    -> 0.015\n",
            "Validation PA      -> 0.987\n",
            "Validation IoU     -> 0.931\n",
            "\n",
            "Loss decreased from inf to 0.015!\n",
            "Saving the model with the best loss value...\n",
            "~~~~~~~~~~~~~~~~~~~~~~~~~~~~~~~~~~~~~~~~~~~~~~~~~~\n",
            "\n",
            "Epoch 2 train process is started...\n"
          ]
        },
        {
          "name": "stderr",
          "output_type": "stream",
          "text": [
            "100%|██████████| 727/727 [03:57<00:00,  3.07it/s]\n"
          ]
        },
        {
          "name": "stdout",
          "output_type": "stream",
          "text": [
            "Epoch 2 validation process is started...\n"
          ]
        },
        {
          "name": "stderr",
          "output_type": "stream",
          "text": [
            "100%|██████████| 243/243 [00:27<00:00,  8.98it/s]\n"
          ]
        },
        {
          "name": "stdout",
          "output_type": "stream",
          "text": [
            "Epoch 2 train process is completed.\n",
            "\n",
            "~~~~~~~~~~~~~~~~~~~~~~~~~~~~~~~~~~~~~~~~~~~~~~~~~~\n",
            "\n",
            "Epoch 2 train process results: \n",
            "\n",
            "Train Time         -> 264.222 secs\n",
            "Train Loss         -> 0.011\n",
            "Train PA           -> 0.938\n",
            "Train IoU          -> 0.950\n",
            "Validation Loss    -> 0.015\n",
            "Validation PA      -> 0.987\n",
            "Validation IoU     -> 0.936\n",
            "\n",
            "Loss did not decrease for 1 epoch(s)!\n",
            "~~~~~~~~~~~~~~~~~~~~~~~~~~~~~~~~~~~~~~~~~~~~~~~~~~\n",
            "\n",
            "Epoch 3 train process is started...\n"
          ]
        },
        {
          "name": "stderr",
          "output_type": "stream",
          "text": [
            "100%|██████████| 727/727 [03:57<00:00,  3.06it/s]\n"
          ]
        },
        {
          "name": "stdout",
          "output_type": "stream",
          "text": [
            "Epoch 3 validation process is started...\n"
          ]
        },
        {
          "name": "stderr",
          "output_type": "stream",
          "text": [
            "100%|██████████| 243/243 [00:27<00:00,  8.95it/s]\n"
          ]
        },
        {
          "name": "stdout",
          "output_type": "stream",
          "text": [
            "Epoch 3 train process is completed.\n",
            "\n",
            "~~~~~~~~~~~~~~~~~~~~~~~~~~~~~~~~~~~~~~~~~~~~~~~~~~\n",
            "\n",
            "Epoch 3 train process results: \n",
            "\n",
            "Train Time         -> 264.525 secs\n",
            "Train Loss         -> 0.008\n",
            "Train PA           -> 0.938\n",
            "Train IoU          -> 0.959\n",
            "Validation Loss    -> 0.009\n",
            "Validation PA      -> 0.987\n",
            "Validation IoU     -> 0.952\n",
            "\n",
            "Loss decreased from 0.015 to 0.009!\n",
            "~~~~~~~~~~~~~~~~~~~~~~~~~~~~~~~~~~~~~~~~~~~~~~~~~~\n",
            "\n",
            "Epoch 4 train process is started...\n"
          ]
        },
        {
          "name": "stderr",
          "output_type": "stream",
          "text": [
            "100%|██████████| 727/727 [03:57<00:00,  3.07it/s]\n"
          ]
        },
        {
          "name": "stdout",
          "output_type": "stream",
          "text": [
            "Epoch 4 validation process is started...\n"
          ]
        },
        {
          "name": "stderr",
          "output_type": "stream",
          "text": [
            "100%|██████████| 243/243 [00:26<00:00,  9.01it/s]\n"
          ]
        },
        {
          "name": "stdout",
          "output_type": "stream",
          "text": [
            "Epoch 4 train process is completed.\n",
            "\n",
            "~~~~~~~~~~~~~~~~~~~~~~~~~~~~~~~~~~~~~~~~~~~~~~~~~~\n",
            "\n",
            "Epoch 4 train process results: \n",
            "\n",
            "Train Time         -> 264.182 secs\n",
            "Train Loss         -> 0.006\n",
            "Train PA           -> 0.938\n",
            "Train IoU          -> 0.969\n",
            "Validation Loss    -> 0.009\n",
            "Validation PA      -> 0.988\n",
            "Validation IoU     -> 0.955\n",
            "\n",
            "Loss decreased from 0.009 to 0.009!\n",
            "Saving the model with the best loss value...\n",
            "~~~~~~~~~~~~~~~~~~~~~~~~~~~~~~~~~~~~~~~~~~~~~~~~~~\n",
            "\n",
            "Epoch 5 train process is started...\n"
          ]
        },
        {
          "name": "stderr",
          "output_type": "stream",
          "text": [
            "100%|██████████| 727/727 [03:57<00:00,  3.06it/s]\n"
          ]
        },
        {
          "name": "stdout",
          "output_type": "stream",
          "text": [
            "Epoch 5 validation process is started...\n"
          ]
        },
        {
          "name": "stderr",
          "output_type": "stream",
          "text": [
            "100%|██████████| 243/243 [00:27<00:00,  8.93it/s]"
          ]
        },
        {
          "name": "stdout",
          "output_type": "stream",
          "text": [
            "Epoch 5 train process is completed.\n",
            "\n",
            "~~~~~~~~~~~~~~~~~~~~~~~~~~~~~~~~~~~~~~~~~~~~~~~~~~\n",
            "\n",
            "Epoch 5 train process results: \n",
            "\n",
            "Train Time         -> 265.123 secs\n",
            "Train Loss         -> 0.004\n",
            "Train PA           -> 0.938\n",
            "Train IoU          -> 0.975\n",
            "Validation Loss    -> 0.012\n",
            "Validation PA      -> 0.987\n",
            "Validation IoU     -> 0.945\n",
            "\n",
            "Loss did not decrease for 2 epoch(s)!\n",
            "~~~~~~~~~~~~~~~~~~~~~~~~~~~~~~~~~~~~~~~~~~~~~~~~~~\n",
            "\n",
            "Train process is completed in 22.072 minutes.\n"
          ]
        },
        {
          "name": "stderr",
          "output_type": "stream",
          "text": [
            "\n"
          ]
        }
      ],
      "source": [
        "import torch\n",
        "\n",
        "device = \"cuda\" if torch.cuda.is_available() else \"cpu\"\n",
        "\n",
        "history = train(model = model, tr_dl = tr_dl, val_dl = val_dl,\n",
        "                 loss_fn = loss_fn, opt = optimizer, device = device,\n",
        "                 epochs = EPOCHS, save_prefix = \"UnetResnet50\", n_cls = n_cls)"
      ]
    },
    {
      "cell_type": "code",
      "execution_count": null,
      "metadata": {
        "colab": {
          "base_uri": "https://localhost:8080/"
        },
        "id": "kr3BnU2IN1Dh",
        "outputId": "512e2e74-30dc-4011-c7b1-dec546891d64"
      },
      "outputs": [
        {
          "name": "stderr",
          "output_type": "stream",
          "text": [
            "100%|██████████| 3874/3874 [01:25<00:00, 45.38it/s]\n"
          ]
        },
        {
          "name": "stdout",
          "output_type": "stream",
          "text": [
            "The MIOU for the segmentation over the test set resulted in:\n",
            "0.897  +\\-  0.145\n",
            "\n",
            "The MIOU 3D for the segmentation over the test set resulted in:\n",
            "0.905  +\\-  0.047\n",
            "\n",
            "The Dicescore for the segmentation over the test set resulted in:\n",
            "0.937  +\\-  0.121\n",
            "\n",
            "The Dicescore 3D for the segmentation over the test set resulted in:\n",
            "0.948  +\\-  0.03\n",
            "\n",
            "The volume similarity for the segmentation over the test set resulted in:\n",
            "1.019  +\\-  0.017\n",
            "\n",
            "The volume similarity abs for the segmentation over the test set resulted in:\n",
            "0.978  +\\-  0.015\n",
            "\n",
            "\n",
            "The time needed for the segmentation of 8 3D images is:\n",
            "85.65 seconds.\n"
          ]
        }
      ],
      "source": [
        "volume_similarities,vol_sim_abs, miou_test, dicescores, execution_time, list_mioU3D,list_dice3D = calculate_results(model,test_dl )\n",
        "\n",
        "volume_similarities = calculate_group_averages(volume_similarities)\n",
        "vol_sim_abs = calculate_group_averages(vol_sim_abs)\n",
        "list_mioU3D = calculate_group_averages(list_mioU3D)\n",
        "list_dice3D = calculate_group_averages(list_dice3D)\n",
        "print_results(miou_test,dicescores,volume_similarities,vol_sim_abs,execution_time,list_mioU3D,list_dice3D)"
      ]
    },
    {
      "cell_type": "markdown",
      "metadata": {
        "id": "DvbuxKyN-_Rx"
      },
      "source": [
        "# Resnet 34"
      ]
    },
    {
      "cell_type": "code",
      "execution_count": null,
      "metadata": {
        "id": "NbJTeSwn-_Ry"
      },
      "outputs": [],
      "source": [
        "import segmentation_models_pytorch as smp, time\n",
        "model= smp.Unet(\n",
        "    encoder_name='resnet34',\n",
        "    encoder_weights=\"imagenet\",\n",
        "    encoder_depth=5,\n",
        "    in_channels=1,\n",
        "    classes=n_cls,\n",
        "    activation=None,\n",
        "    )"
      ]
    },
    {
      "cell_type": "code",
      "execution_count": null,
      "metadata": {
        "id": "Y-7OrU3R-_Ry"
      },
      "outputs": [],
      "source": [
        "loss_fn = torch.nn.CrossEntropyLoss()\n",
        "optimizer = torch.optim.Adam(params = model.parameters(), lr = 3e-4)\n"
      ]
    },
    {
      "cell_type": "code",
      "execution_count": null,
      "metadata": {
        "colab": {
          "base_uri": "https://localhost:8080/"
        },
        "id": "f0oUMzmq-_Rz",
        "outputId": "5dd377aa-8ed8-4b18-8b01-1f41a0ca86e1"
      },
      "outputs": [
        {
          "name": "stdout",
          "output_type": "stream",
          "text": [
            "Start training process...\n",
            "Epoch 1 train process is started...\n"
          ]
        },
        {
          "name": "stderr",
          "output_type": "stream",
          "text": [
            "100%|██████████| 727/727 [02:31<00:00,  4.80it/s]\n"
          ]
        },
        {
          "name": "stdout",
          "output_type": "stream",
          "text": [
            "Epoch 1 validation process is started...\n"
          ]
        },
        {
          "name": "stderr",
          "output_type": "stream",
          "text": [
            "100%|██████████| 243/243 [00:18<00:00, 13.15it/s]\n"
          ]
        },
        {
          "name": "stdout",
          "output_type": "stream",
          "text": [
            "Epoch 1 train process is completed.\n",
            "\n",
            "~~~~~~~~~~~~~~~~~~~~~~~~~~~~~~~~~~~~~~~~~~~~~~~~~~\n",
            "\n",
            "Epoch 1 train process results: \n",
            "\n",
            "Train Time         -> 170.105 secs\n",
            "Train Loss         -> 0.044\n",
            "Train PA           -> 0.936\n",
            "Train IoU          -> 0.904\n",
            "Validation Loss    -> 0.010\n",
            "Validation PA      -> 0.987\n",
            "Validation IoU     -> 0.952\n",
            "\n",
            "Loss decreased from inf to 0.010!\n",
            "Saving the model with the best loss value...\n",
            "~~~~~~~~~~~~~~~~~~~~~~~~~~~~~~~~~~~~~~~~~~~~~~~~~~\n",
            "\n",
            "Epoch 2 train process is started...\n"
          ]
        },
        {
          "name": "stderr",
          "output_type": "stream",
          "text": [
            "100%|██████████| 727/727 [02:30<00:00,  4.83it/s]\n"
          ]
        },
        {
          "name": "stdout",
          "output_type": "stream",
          "text": [
            "Epoch 2 validation process is started...\n"
          ]
        },
        {
          "name": "stderr",
          "output_type": "stream",
          "text": [
            "100%|██████████| 243/243 [00:18<00:00, 13.18it/s]\n"
          ]
        },
        {
          "name": "stdout",
          "output_type": "stream",
          "text": [
            "Epoch 2 train process is completed.\n",
            "\n",
            "~~~~~~~~~~~~~~~~~~~~~~~~~~~~~~~~~~~~~~~~~~~~~~~~~~\n",
            "\n",
            "Epoch 2 train process results: \n",
            "\n",
            "Train Time         -> 169.041 secs\n",
            "Train Loss         -> 0.009\n",
            "Train PA           -> 0.938\n",
            "Train IoU          -> 0.955\n",
            "Validation Loss    -> 0.012\n",
            "Validation PA      -> 0.987\n",
            "Validation IoU     -> 0.939\n",
            "\n",
            "Loss did not decrease for 1 epoch(s)!\n",
            "~~~~~~~~~~~~~~~~~~~~~~~~~~~~~~~~~~~~~~~~~~~~~~~~~~\n",
            "\n",
            "Epoch 3 train process is started...\n"
          ]
        },
        {
          "name": "stderr",
          "output_type": "stream",
          "text": [
            "100%|██████████| 727/727 [02:30<00:00,  4.83it/s]\n"
          ]
        },
        {
          "name": "stdout",
          "output_type": "stream",
          "text": [
            "Epoch 3 validation process is started...\n"
          ]
        },
        {
          "name": "stderr",
          "output_type": "stream",
          "text": [
            "100%|██████████| 243/243 [00:18<00:00, 13.10it/s]\n"
          ]
        },
        {
          "name": "stdout",
          "output_type": "stream",
          "text": [
            "Epoch 3 train process is completed.\n",
            "\n",
            "~~~~~~~~~~~~~~~~~~~~~~~~~~~~~~~~~~~~~~~~~~~~~~~~~~\n",
            "\n",
            "Epoch 3 train process results: \n",
            "\n",
            "Train Time         -> 169.179 secs\n",
            "Train Loss         -> 0.006\n",
            "Train PA           -> 0.938\n",
            "Train IoU          -> 0.968\n",
            "Validation Loss    -> 0.010\n",
            "Validation PA      -> 0.987\n",
            "Validation IoU     -> 0.951\n",
            "\n",
            "Loss decreased from 0.012 to 0.010!\n",
            "~~~~~~~~~~~~~~~~~~~~~~~~~~~~~~~~~~~~~~~~~~~~~~~~~~\n",
            "\n",
            "Epoch 4 train process is started...\n"
          ]
        },
        {
          "name": "stderr",
          "output_type": "stream",
          "text": [
            "100%|██████████| 727/727 [02:30<00:00,  4.84it/s]\n"
          ]
        },
        {
          "name": "stdout",
          "output_type": "stream",
          "text": [
            "Epoch 4 validation process is started...\n"
          ]
        },
        {
          "name": "stderr",
          "output_type": "stream",
          "text": [
            "100%|██████████| 243/243 [00:18<00:00, 13.02it/s]\n"
          ]
        },
        {
          "name": "stdout",
          "output_type": "stream",
          "text": [
            "Epoch 4 train process is completed.\n",
            "\n",
            "~~~~~~~~~~~~~~~~~~~~~~~~~~~~~~~~~~~~~~~~~~~~~~~~~~\n",
            "\n",
            "Epoch 4 train process results: \n",
            "\n",
            "Train Time         -> 168.898 secs\n",
            "Train Loss         -> 0.007\n",
            "Train PA           -> 0.938\n",
            "Train IoU          -> 0.963\n",
            "Validation Loss    -> 0.009\n",
            "Validation PA      -> 0.987\n",
            "Validation IoU     -> 0.949\n",
            "\n",
            "Loss decreased from 0.010 to 0.009!\n",
            "Saving the model with the best loss value...\n",
            "~~~~~~~~~~~~~~~~~~~~~~~~~~~~~~~~~~~~~~~~~~~~~~~~~~\n",
            "\n",
            "Epoch 5 train process is started...\n"
          ]
        },
        {
          "name": "stderr",
          "output_type": "stream",
          "text": [
            "100%|██████████| 727/727 [02:30<00:00,  4.82it/s]\n"
          ]
        },
        {
          "name": "stdout",
          "output_type": "stream",
          "text": [
            "Epoch 5 validation process is started...\n"
          ]
        },
        {
          "name": "stderr",
          "output_type": "stream",
          "text": [
            "100%|██████████| 243/243 [00:18<00:00, 13.04it/s]"
          ]
        },
        {
          "name": "stdout",
          "output_type": "stream",
          "text": [
            "Epoch 5 train process is completed.\n",
            "\n",
            "~~~~~~~~~~~~~~~~~~~~~~~~~~~~~~~~~~~~~~~~~~~~~~~~~~\n",
            "\n",
            "Epoch 5 train process results: \n",
            "\n",
            "Train Time         -> 169.520 secs\n",
            "Train Loss         -> 0.004\n",
            "Train PA           -> 0.938\n",
            "Train IoU          -> 0.975\n",
            "Validation Loss    -> 0.009\n",
            "Validation PA      -> 0.987\n",
            "Validation IoU     -> 0.952\n",
            "\n",
            "Loss decreased from 0.009 to 0.009!\n",
            "~~~~~~~~~~~~~~~~~~~~~~~~~~~~~~~~~~~~~~~~~~~~~~~~~~\n",
            "\n",
            "Train process is completed in 14.123 minutes.\n"
          ]
        },
        {
          "name": "stderr",
          "output_type": "stream",
          "text": [
            "\n"
          ]
        }
      ],
      "source": [
        "device = \"cuda\" if torch.cuda.is_available() else \"cpu\"\n",
        "\n",
        "history = train(model = model, tr_dl = tr_dl, val_dl = val_dl,\n",
        "                 loss_fn = loss_fn, opt = optimizer, device = device,\n",
        "                 epochs = EPOCHS, save_prefix = \"UnetResnet34\", n_cls = n_cls)"
      ]
    },
    {
      "cell_type": "code",
      "execution_count": null,
      "metadata": {
        "collapsed": true,
        "id": "h39_tO9C-_R0"
      },
      "outputs": [],
      "source": [
        "# model = torch.load(\"saved_models/liver_best_model.pt\")\n",
        "# inference(test_dl, model = model, device = device)"
      ]
    },
    {
      "cell_type": "code",
      "execution_count": null,
      "metadata": {
        "colab": {
          "base_uri": "https://localhost:8080/"
        },
        "id": "CP86rc-t-_R0",
        "outputId": "587dadaa-fc69-4cd3-a0a4-786eb4b4cd76"
      },
      "outputs": [
        {
          "name": "stderr",
          "output_type": "stream",
          "text": [
            "100%|██████████| 3874/3874 [01:04<00:00, 59.90it/s]\n"
          ]
        },
        {
          "name": "stdout",
          "output_type": "stream",
          "text": [
            "The MIOU for the segmentation over the test set resulted in:\n",
            "0.898  +\\-  0.136\n",
            "\n",
            "The MIOU 3D for the segmentation over the test set resulted in:\n",
            "0.92  +\\-  0.034\n",
            "\n",
            "The Dicescore for the segmentation over the test set resulted in:\n",
            "0.938  +\\-  0.113\n",
            "\n",
            "The Dicescore 3D for the segmentation over the test set resulted in:\n",
            "0.957  +\\-  0.02\n",
            "\n",
            "The volume similarity for the segmentation over the test set resulted in:\n",
            "1.023  +\\-  0.008\n",
            "\n",
            "The volume similarity abs for the segmentation over the test set resulted in:\n",
            "0.975  +\\-  0.008\n",
            "\n",
            "\n",
            "The time needed for the segmentation of 8 3D images is:\n",
            "65.02 seconds.\n"
          ]
        }
      ],
      "source": [
        "volume_similarities,vol_sim_abs, miou_test, dicescores, execution_time, list_mioU3D,list_dice3D = calculate_results(model,test_dl )\n",
        "\n",
        "volume_similarities = calculate_group_averages(volume_similarities)\n",
        "vol_sim_abs = calculate_group_averages(vol_sim_abs)\n",
        "list_mioU3D = calculate_group_averages(list_mioU3D)\n",
        "list_dice3D = calculate_group_averages(list_dice3D)\n",
        "print_results(miou_test,dicescores,volume_similarities,vol_sim_abs,execution_time,list_mioU3D,list_dice3D)\n"
      ]
    },
    {
      "cell_type": "markdown",
      "metadata": {
        "id": "GF0fHVtZVPov"
      },
      "source": [
        "#Resnet50 Unet++"
      ]
    },
    {
      "cell_type": "code",
      "execution_count": null,
      "metadata": {
        "id": "2v3CTcnbVPo9"
      },
      "outputs": [],
      "source": [
        "import segmentation_models_pytorch as smp, time\n",
        "import segmentation_models_pytorch as smp, time\n",
        "model = smp.UnetPlusPlus(\n",
        "    encoder_name='resnet50',\n",
        "    encoder_depth=5,\n",
        "    encoder_weights=\"imagenet\",\n",
        "    in_channels=1,\n",
        "    classes=n_cls,\n",
        "    activation=None,\n",
        "    )\n",
        "\n"
      ]
    },
    {
      "cell_type": "code",
      "execution_count": null,
      "metadata": {
        "id": "17jy_qkAVPo9"
      },
      "outputs": [],
      "source": [
        "loss_fn = torch.nn.CrossEntropyLoss()\n",
        "optimizer = torch.optim.Adam(params = model.parameters(), lr = 3e-4)\n"
      ]
    },
    {
      "cell_type": "code",
      "execution_count": null,
      "metadata": {
        "colab": {
          "base_uri": "https://localhost:8080/"
        },
        "id": "Qd5Nf0lfVPo-",
        "outputId": "879e7a0c-dfea-4a68-fd83-2e087b72170c"
      },
      "outputs": [
        {
          "name": "stdout",
          "output_type": "stream",
          "text": [
            "Start training process...\n",
            "Epoch 1 train process is started...\n"
          ]
        },
        {
          "name": "stderr",
          "output_type": "stream",
          "text": [
            "100%|██████████| 727/727 [11:01<00:00,  1.10it/s]\n"
          ]
        },
        {
          "name": "stdout",
          "output_type": "stream",
          "text": [
            "Epoch 1 validation process is started...\n"
          ]
        },
        {
          "name": "stderr",
          "output_type": "stream",
          "text": [
            "100%|██████████| 243/243 [01:14<00:00,  3.28it/s]\n"
          ]
        },
        {
          "name": "stdout",
          "output_type": "stream",
          "text": [
            "Epoch 1 train process is completed.\n",
            "\n",
            "~~~~~~~~~~~~~~~~~~~~~~~~~~~~~~~~~~~~~~~~~~~~~~~~~~\n",
            "\n",
            "Epoch 1 train process results: \n",
            "\n",
            "Train Time         -> 736.164 secs\n",
            "Train Loss         -> 0.058\n",
            "Train PA           -> 0.933\n",
            "Train IoU          -> 0.893\n",
            "Validation Loss    -> 0.011\n",
            "Validation PA      -> 0.987\n",
            "Validation IoU     -> 0.947\n",
            "\n",
            "Loss decreased from inf to 0.011!\n",
            "Saving the model with the best loss value...\n",
            "~~~~~~~~~~~~~~~~~~~~~~~~~~~~~~~~~~~~~~~~~~~~~~~~~~\n",
            "\n",
            "Epoch 2 train process is started...\n"
          ]
        },
        {
          "name": "stderr",
          "output_type": "stream",
          "text": [
            "100%|██████████| 727/727 [11:01<00:00,  1.10it/s]\n"
          ]
        },
        {
          "name": "stdout",
          "output_type": "stream",
          "text": [
            "Epoch 2 validation process is started...\n"
          ]
        },
        {
          "name": "stderr",
          "output_type": "stream",
          "text": [
            "100%|██████████| 243/243 [01:14<00:00,  3.28it/s]\n"
          ]
        },
        {
          "name": "stdout",
          "output_type": "stream",
          "text": [
            "Epoch 2 train process is completed.\n",
            "\n",
            "~~~~~~~~~~~~~~~~~~~~~~~~~~~~~~~~~~~~~~~~~~~~~~~~~~\n",
            "\n",
            "Epoch 2 train process results: \n",
            "\n",
            "Train Time         -> 736.123 secs\n",
            "Train Loss         -> 0.011\n",
            "Train PA           -> 0.938\n",
            "Train IoU          -> 0.946\n",
            "Validation Loss    -> 0.010\n",
            "Validation PA      -> 0.987\n",
            "Validation IoU     -> 0.938\n",
            "\n",
            "Loss decreased from 0.011 to 0.010!\n",
            "~~~~~~~~~~~~~~~~~~~~~~~~~~~~~~~~~~~~~~~~~~~~~~~~~~\n",
            "\n",
            "Epoch 3 train process is started...\n"
          ]
        },
        {
          "name": "stderr",
          "output_type": "stream",
          "text": [
            "100%|██████████| 727/727 [11:01<00:00,  1.10it/s]\n"
          ]
        },
        {
          "name": "stdout",
          "output_type": "stream",
          "text": [
            "Epoch 3 validation process is started...\n"
          ]
        },
        {
          "name": "stderr",
          "output_type": "stream",
          "text": [
            "100%|██████████| 243/243 [01:14<00:00,  3.26it/s]\n"
          ]
        },
        {
          "name": "stdout",
          "output_type": "stream",
          "text": [
            "Epoch 3 train process is completed.\n",
            "\n",
            "~~~~~~~~~~~~~~~~~~~~~~~~~~~~~~~~~~~~~~~~~~~~~~~~~~\n",
            "\n",
            "Epoch 3 train process results: \n",
            "\n",
            "Train Time         -> 736.227 secs\n",
            "Train Loss         -> 0.008\n",
            "Train PA           -> 0.938\n",
            "Train IoU          -> 0.959\n",
            "Validation Loss    -> 0.010\n",
            "Validation PA      -> 0.987\n",
            "Validation IoU     -> 0.948\n",
            "\n",
            "Loss decreased from 0.010 to 0.010!\n",
            "Saving the model with the best loss value...\n",
            "~~~~~~~~~~~~~~~~~~~~~~~~~~~~~~~~~~~~~~~~~~~~~~~~~~\n",
            "\n",
            "Epoch 4 train process is started...\n"
          ]
        },
        {
          "name": "stderr",
          "output_type": "stream",
          "text": [
            "100%|██████████| 727/727 [11:02<00:00,  1.10it/s]\n"
          ]
        },
        {
          "name": "stdout",
          "output_type": "stream",
          "text": [
            "Epoch 4 validation process is started...\n"
          ]
        },
        {
          "name": "stderr",
          "output_type": "stream",
          "text": [
            "100%|██████████| 243/243 [01:14<00:00,  3.25it/s]\n"
          ]
        },
        {
          "name": "stdout",
          "output_type": "stream",
          "text": [
            "Epoch 4 train process is completed.\n",
            "\n",
            "~~~~~~~~~~~~~~~~~~~~~~~~~~~~~~~~~~~~~~~~~~~~~~~~~~\n",
            "\n",
            "Epoch 4 train process results: \n",
            "\n",
            "Train Time         -> 736.951 secs\n",
            "Train Loss         -> 0.005\n",
            "Train PA           -> 0.938\n",
            "Train IoU          -> 0.971\n",
            "Validation Loss    -> 0.008\n",
            "Validation PA      -> 0.988\n",
            "Validation IoU     -> 0.951\n",
            "\n",
            "Loss decreased from 0.010 to 0.008!\n",
            "~~~~~~~~~~~~~~~~~~~~~~~~~~~~~~~~~~~~~~~~~~~~~~~~~~\n",
            "\n",
            "Epoch 5 train process is started...\n"
          ]
        },
        {
          "name": "stderr",
          "output_type": "stream",
          "text": [
            "100%|██████████| 727/727 [11:02<00:00,  1.10it/s]\n"
          ]
        },
        {
          "name": "stdout",
          "output_type": "stream",
          "text": [
            "Epoch 5 validation process is started...\n"
          ]
        },
        {
          "name": "stderr",
          "output_type": "stream",
          "text": [
            "100%|██████████| 243/243 [01:14<00:00,  3.26it/s]"
          ]
        },
        {
          "name": "stdout",
          "output_type": "stream",
          "text": [
            "Epoch 5 train process is completed.\n",
            "\n",
            "~~~~~~~~~~~~~~~~~~~~~~~~~~~~~~~~~~~~~~~~~~~~~~~~~~\n",
            "\n",
            "Epoch 5 train process results: \n",
            "\n",
            "Train Time         -> 737.007 secs\n",
            "Train Loss         -> 0.006\n",
            "Train PA           -> 0.938\n",
            "Train IoU          -> 0.966\n",
            "Validation Loss    -> 0.013\n",
            "Validation PA      -> 0.986\n",
            "Validation IoU     -> 0.930\n",
            "\n",
            "Loss did not decrease for 1 epoch(s)!\n",
            "~~~~~~~~~~~~~~~~~~~~~~~~~~~~~~~~~~~~~~~~~~~~~~~~~~\n",
            "\n",
            "Train process is completed in 61.391 minutes.\n"
          ]
        },
        {
          "name": "stderr",
          "output_type": "stream",
          "text": [
            "\n"
          ]
        }
      ],
      "source": [
        "\n",
        "device = \"cuda\" if torch.cuda.is_available() else \"cpu\"\n",
        "\n",
        "history = train(model = model, tr_dl = tr_dl, val_dl = val_dl,\n",
        "                 loss_fn = loss_fn, opt = optimizer, device = device,\n",
        "                 epochs = EPOCHS, save_prefix = \"UnetppResnet50\", n_cls = n_cls)"
      ]
    },
    {
      "cell_type": "code",
      "execution_count": null,
      "metadata": {
        "collapsed": true,
        "id": "XXfeSBHxVPo-"
      },
      "outputs": [],
      "source": [
        "# model = torch.load(\"saved_models/liver_best_model.pt\")\n",
        "# inference(test_dl, model = model, device = device)"
      ]
    },
    {
      "cell_type": "code",
      "execution_count": null,
      "metadata": {
        "colab": {
          "base_uri": "https://localhost:8080/"
        },
        "id": "ei7S0_G2VPo_",
        "outputId": "d1c99f12-5168-46ef-b1a0-d2502c8bd800"
      },
      "outputs": [
        {
          "name": "stderr",
          "output_type": "stream",
          "text": [
            "100%|██████████| 3874/3874 [02:20<00:00, 27.58it/s]\n"
          ]
        },
        {
          "name": "stdout",
          "output_type": "stream",
          "text": [
            "The MIOU for the segmentation over the test set resulted in:\n",
            "0.904  +\\-  0.148\n",
            "\n",
            "The MIOU 3D for the segmentation over the test set resulted in:\n",
            "0.923  +\\-  0.018\n",
            "\n",
            "The Dicescore for the segmentation over the test set resulted in:\n",
            "0.939  +\\-  0.131\n",
            "\n",
            "The Dicescore 3D for the segmentation over the test set resulted in:\n",
            "0.959  +\\-  0.01\n",
            "\n",
            "The volume similarity for the segmentation over the test set resulted in:\n",
            "1.008  +\\-  0.011\n",
            "\n",
            "The volume similarity abs for the segmentation over the test set resulted in:\n",
            "0.985  +\\-  0.01\n",
            "\n",
            "\n",
            "The time needed for the segmentation of 8 3D images is:\n",
            "140.73 seconds.\n"
          ]
        }
      ],
      "source": [
        "volume_similarities,vol_sim_abs, miou_test, dicescores, execution_time, list_mioU3D,list_dice3D = calculate_results(model,test_dl )\n",
        "\n",
        "volume_similarities = calculate_group_averages(volume_similarities)\n",
        "vol_sim_abs = calculate_group_averages(vol_sim_abs)\n",
        "list_mioU3D = calculate_group_averages(list_mioU3D)\n",
        "list_dice3D = calculate_group_averages(list_dice3D)\n",
        "print_results(miou_test,dicescores,volume_similarities,vol_sim_abs,execution_time,list_mioU3D,list_dice3D)\n"
      ]
    },
    {
      "cell_type": "markdown",
      "metadata": {
        "id": "ayvbiOWJ_zLP"
      },
      "source": [
        "#Resnet34 Unet++"
      ]
    },
    {
      "cell_type": "code",
      "execution_count": null,
      "metadata": {
        "id": "EQqIUhwU_zLe"
      },
      "outputs": [],
      "source": [
        "\n",
        "model = smp.UnetPlusPlus(\n",
        "    encoder_name='resnet34',\n",
        "    encoder_depth=5,\n",
        "    encoder_weights=\"imagenet\",\n",
        "    in_channels=1,\n",
        "    classes=n_cls,\n",
        "    activation=None,\n",
        "    )\n",
        "\n"
      ]
    },
    {
      "cell_type": "code",
      "execution_count": null,
      "metadata": {
        "id": "VWJoSNuQ_zLf"
      },
      "outputs": [],
      "source": [
        "loss_fn = torch.nn.CrossEntropyLoss()\n",
        "optimizer = torch.optim.Adam(params = model.parameters(), lr = 3e-4)\n"
      ]
    },
    {
      "cell_type": "code",
      "execution_count": null,
      "metadata": {
        "colab": {
          "base_uri": "https://localhost:8080/"
        },
        "id": "1zmDQ-7H_zLf",
        "outputId": "942c4eaa-4e82-48a2-d91b-57c16786b16c"
      },
      "outputs": [
        {
          "name": "stdout",
          "output_type": "stream",
          "text": [
            "Start training process...\n",
            "Epoch 1 train process is started...\n"
          ]
        },
        {
          "name": "stderr",
          "output_type": "stream",
          "text": [
            "100%|██████████| 727/727 [05:10<00:00,  2.34it/s]\n"
          ]
        },
        {
          "name": "stdout",
          "output_type": "stream",
          "text": [
            "Epoch 1 validation process is started...\n"
          ]
        },
        {
          "name": "stderr",
          "output_type": "stream",
          "text": [
            "100%|██████████| 243/243 [00:36<00:00,  6.60it/s]\n"
          ]
        },
        {
          "name": "stdout",
          "output_type": "stream",
          "text": [
            "Epoch 1 train process is completed.\n",
            "\n",
            "~~~~~~~~~~~~~~~~~~~~~~~~~~~~~~~~~~~~~~~~~~~~~~~~~~\n",
            "\n",
            "Epoch 1 train process results: \n",
            "\n",
            "Train Time         -> 347.649 secs\n",
            "Train Loss         -> 0.026\n",
            "Train PA           -> 0.938\n",
            "Train IoU          -> 0.915\n",
            "Validation Loss    -> 0.009\n",
            "Validation PA      -> 0.987\n",
            "Validation IoU     -> 0.947\n",
            "\n",
            "Loss decreased from inf to 0.009!\n",
            "Saving the model with the best loss value...\n",
            "~~~~~~~~~~~~~~~~~~~~~~~~~~~~~~~~~~~~~~~~~~~~~~~~~~\n",
            "\n",
            "Epoch 2 train process is started...\n"
          ]
        },
        {
          "name": "stderr",
          "output_type": "stream",
          "text": [
            "100%|██████████| 727/727 [05:10<00:00,  2.34it/s]\n"
          ]
        },
        {
          "name": "stdout",
          "output_type": "stream",
          "text": [
            "Epoch 2 validation process is started...\n"
          ]
        },
        {
          "name": "stderr",
          "output_type": "stream",
          "text": [
            "100%|██████████| 243/243 [00:36<00:00,  6.58it/s]\n"
          ]
        },
        {
          "name": "stdout",
          "output_type": "stream",
          "text": [
            "Epoch 2 train process is completed.\n",
            "\n",
            "~~~~~~~~~~~~~~~~~~~~~~~~~~~~~~~~~~~~~~~~~~~~~~~~~~\n",
            "\n",
            "Epoch 2 train process results: \n",
            "\n",
            "Train Time         -> 347.512 secs\n",
            "Train Loss         -> 0.008\n",
            "Train PA           -> 0.938\n",
            "Train IoU          -> 0.959\n",
            "Validation Loss    -> 0.009\n",
            "Validation PA      -> 0.987\n",
            "Validation IoU     -> 0.949\n",
            "\n",
            "Loss decreased from 0.009 to 0.009!\n",
            "~~~~~~~~~~~~~~~~~~~~~~~~~~~~~~~~~~~~~~~~~~~~~~~~~~\n",
            "\n",
            "Epoch 3 train process is started...\n"
          ]
        },
        {
          "name": "stderr",
          "output_type": "stream",
          "text": [
            "100%|██████████| 727/727 [05:10<00:00,  2.34it/s]\n"
          ]
        },
        {
          "name": "stdout",
          "output_type": "stream",
          "text": [
            "Epoch 3 validation process is started...\n"
          ]
        },
        {
          "name": "stderr",
          "output_type": "stream",
          "text": [
            "100%|██████████| 243/243 [00:36<00:00,  6.61it/s]\n"
          ]
        },
        {
          "name": "stdout",
          "output_type": "stream",
          "text": [
            "Epoch 3 train process is completed.\n",
            "\n",
            "~~~~~~~~~~~~~~~~~~~~~~~~~~~~~~~~~~~~~~~~~~~~~~~~~~\n",
            "\n",
            "Epoch 3 train process results: \n",
            "\n",
            "Train Time         -> 347.416 secs\n",
            "Train Loss         -> 0.006\n",
            "Train PA           -> 0.938\n",
            "Train IoU          -> 0.968\n",
            "Validation Loss    -> 0.008\n",
            "Validation PA      -> 0.988\n",
            "Validation IoU     -> 0.952\n",
            "\n",
            "Loss decreased from 0.009 to 0.008!\n",
            "Saving the model with the best loss value...\n",
            "~~~~~~~~~~~~~~~~~~~~~~~~~~~~~~~~~~~~~~~~~~~~~~~~~~\n",
            "\n",
            "Epoch 4 train process is started...\n"
          ]
        },
        {
          "name": "stderr",
          "output_type": "stream",
          "text": [
            "100%|██████████| 727/727 [05:10<00:00,  2.34it/s]\n"
          ]
        },
        {
          "name": "stdout",
          "output_type": "stream",
          "text": [
            "Epoch 4 validation process is started...\n"
          ]
        },
        {
          "name": "stderr",
          "output_type": "stream",
          "text": [
            "100%|██████████| 243/243 [00:37<00:00,  6.56it/s]\n"
          ]
        },
        {
          "name": "stdout",
          "output_type": "stream",
          "text": [
            "Epoch 4 train process is completed.\n",
            "\n",
            "~~~~~~~~~~~~~~~~~~~~~~~~~~~~~~~~~~~~~~~~~~~~~~~~~~\n",
            "\n",
            "Epoch 4 train process results: \n",
            "\n",
            "Train Time         -> 347.898 secs\n",
            "Train Loss         -> 0.005\n",
            "Train PA           -> 0.938\n",
            "Train IoU          -> 0.973\n",
            "Validation Loss    -> 0.011\n",
            "Validation PA      -> 0.987\n",
            "Validation IoU     -> 0.945\n",
            "\n",
            "Loss did not decrease for 1 epoch(s)!\n",
            "~~~~~~~~~~~~~~~~~~~~~~~~~~~~~~~~~~~~~~~~~~~~~~~~~~\n",
            "\n",
            "Epoch 5 train process is started...\n"
          ]
        },
        {
          "name": "stderr",
          "output_type": "stream",
          "text": [
            "100%|██████████| 727/727 [05:10<00:00,  2.34it/s]\n"
          ]
        },
        {
          "name": "stdout",
          "output_type": "stream",
          "text": [
            "Epoch 5 validation process is started...\n"
          ]
        },
        {
          "name": "stderr",
          "output_type": "stream",
          "text": [
            "100%|██████████| 243/243 [00:36<00:00,  6.63it/s]"
          ]
        },
        {
          "name": "stdout",
          "output_type": "stream",
          "text": [
            "Epoch 5 train process is completed.\n",
            "\n",
            "~~~~~~~~~~~~~~~~~~~~~~~~~~~~~~~~~~~~~~~~~~~~~~~~~~\n",
            "\n",
            "Epoch 5 train process results: \n",
            "\n",
            "Train Time         -> 347.517 secs\n",
            "Train Loss         -> 0.005\n",
            "Train PA           -> 0.938\n",
            "Train IoU          -> 0.972\n",
            "Validation Loss    -> 0.008\n",
            "Validation PA      -> 0.988\n",
            "Validation IoU     -> 0.953\n",
            "\n",
            "Loss decreased from 0.011 to 0.008!\n",
            "~~~~~~~~~~~~~~~~~~~~~~~~~~~~~~~~~~~~~~~~~~~~~~~~~~\n",
            "\n",
            "Train process is completed in 28.975 minutes.\n"
          ]
        },
        {
          "name": "stderr",
          "output_type": "stream",
          "text": [
            "\n"
          ]
        }
      ],
      "source": [
        "\n",
        "device = \"cuda\" if torch.cuda.is_available() else \"cpu\"\n",
        "\n",
        "history = train(model = model, tr_dl = tr_dl, val_dl = val_dl,\n",
        "                 loss_fn = loss_fn, opt = optimizer, device = device,\n",
        "                 epochs = EPOCHS, save_prefix = \"UnetppResnet34\", n_cls = n_cls)"
      ]
    },
    {
      "cell_type": "code",
      "execution_count": null,
      "metadata": {
        "collapsed": true,
        "id": "wwJR_wnN_zLg"
      },
      "outputs": [],
      "source": [
        "# model = torch.load(\"saved_models/liver_best_model.pt\")\n"
      ]
    },
    {
      "cell_type": "code",
      "execution_count": null,
      "metadata": {
        "colab": {
          "base_uri": "https://localhost:8080/"
        },
        "id": "Y-n1zKtr_zLg",
        "outputId": "afedea64-b22e-4cc6-8822-a616b5e64378"
      },
      "outputs": [
        {
          "name": "stderr",
          "output_type": "stream",
          "text": [
            "100%|██████████| 3874/3874 [01:21<00:00, 47.49it/s]\n"
          ]
        },
        {
          "name": "stdout",
          "output_type": "stream",
          "text": [
            "The MIOU for the segmentation over the test set resulted in:\n",
            "0.903  +\\-  0.145\n",
            "\n",
            "The MIOU 3D for the segmentation over the test set resulted in:\n",
            "0.924  +\\-  0.035\n",
            "\n",
            "The Dicescore for the segmentation over the test set resulted in:\n",
            "0.94  +\\-  0.122\n",
            "\n",
            "The Dicescore 3D for the segmentation over the test set resulted in:\n",
            "0.959  +\\-  0.021\n",
            "\n",
            "The volume similarity for the segmentation over the test set resulted in:\n",
            "1.002  +\\-  0.016\n",
            "\n",
            "The volume similarity abs for the segmentation over the test set resulted in:\n",
            "0.976  +\\-  0.017\n",
            "\n",
            "\n",
            "The time needed for the segmentation of 8 3D images is:\n",
            "81.86 seconds.\n"
          ]
        }
      ],
      "source": [
        "volume_similarities,vol_sim_abs, miou_test, dicescores, execution_time, list_mioU3D,list_dice3D = calculate_results(model,test_dl )\n",
        "\n",
        "volume_similarities = calculate_group_averages(volume_similarities)\n",
        "vol_sim_abs = calculate_group_averages(vol_sim_abs)\n",
        "list_mioU3D = calculate_group_averages(list_mioU3D)\n",
        "list_dice3D = calculate_group_averages(list_dice3D)\n",
        "print_results(miou_test,dicescores,volume_similarities,vol_sim_abs,execution_time,list_mioU3D,list_dice3D)"
      ]
    },
    {
      "cell_type": "markdown",
      "metadata": {
        "id": "jJ0vtPLlFOtC"
      },
      "source": [
        "# Unet mobile"
      ]
    },
    {
      "cell_type": "code",
      "execution_count": null,
      "metadata": {
        "colab": {
          "base_uri": "https://localhost:8080/"
        },
        "collapsed": true,
        "id": "qW5hX070FOtN",
        "outputId": "d21ca665-8526-4045-cdd7-3f3fc25f918b"
      },
      "outputs": [
        {
          "name": "stderr",
          "output_type": "stream",
          "text": [
            "Downloading: \"https://github.com/rwightman/pytorch-image-models/releases/download/v0.1-weights/tf_mobilenetv3_large_100-427764d5.pth\" to /root/.cache/torch/hub/checkpoints/tf_mobilenetv3_large_100-427764d5.pth\n",
            "100%|██████████| 21.1M/21.1M [00:00<00:00, 241MB/s]\n"
          ]
        }
      ],
      "source": [
        "\n",
        "model= smp.Unet(\n",
        "    encoder_name='timm-mobilenetv3_large_100',\n",
        "    encoder_depth=5,\n",
        "    encoder_weights=\"imagenet\",\n",
        "    in_channels=1,\n",
        "    classes=n_cls,\n",
        "    activation=None,\n",
        "    )\n",
        "\n",
        "\n",
        "\n",
        "device = torch.device(\"cuda\" if torch.cuda.is_available() else \"cpu\")\n",
        "\n",
        "\n"
      ]
    },
    {
      "cell_type": "code",
      "execution_count": null,
      "metadata": {
        "id": "ntscsljzFOtN"
      },
      "outputs": [],
      "source": [
        "loss_fn = torch.nn.CrossEntropyLoss()\n",
        "optimizer = torch.optim.Adam(params = model.parameters(), lr = 3e-4)\n"
      ]
    },
    {
      "cell_type": "code",
      "execution_count": null,
      "metadata": {
        "colab": {
          "base_uri": "https://localhost:8080/"
        },
        "id": "qBkjyteiFOtO",
        "outputId": "22166bfe-85ca-4c97-c635-4385cd50134c"
      },
      "outputs": [
        {
          "name": "stdout",
          "output_type": "stream",
          "text": [
            "Start training process...\n",
            "Epoch 1 train process is started...\n"
          ]
        },
        {
          "name": "stderr",
          "output_type": "stream",
          "text": [
            "100%|█████████▉| 726/727 [01:59<00:00,  6.18it/s]/usr/local/lib/python3.10/dist-packages/torch/autograd/graph.py:744: UserWarning: Plan failed with a cudnnException: CUDNN_BACKEND_EXECUTION_PLAN_DESCRIPTOR: cudnnFinalize Descriptor Failed cudnn_status: CUDNN_STATUS_NOT_SUPPORTED (Triggered internally at ../aten/src/ATen/native/cudnn/Conv_v8.cpp:919.)\n",
            "  return Variable._execution_engine.run_backward(  # Calls into the C++ engine to run the backward pass\n",
            "100%|██████████| 727/727 [02:00<00:00,  6.03it/s]\n"
          ]
        },
        {
          "name": "stdout",
          "output_type": "stream",
          "text": [
            "Epoch 1 validation process is started...\n"
          ]
        },
        {
          "name": "stderr",
          "output_type": "stream",
          "text": [
            "100%|██████████| 243/243 [00:15<00:00, 15.37it/s]\n"
          ]
        },
        {
          "name": "stdout",
          "output_type": "stream",
          "text": [
            "Epoch 1 train process is completed.\n",
            "\n",
            "~~~~~~~~~~~~~~~~~~~~~~~~~~~~~~~~~~~~~~~~~~~~~~~~~~\n",
            "\n",
            "Epoch 1 train process results: \n",
            "\n",
            "Train Time         -> 136.324 secs\n",
            "Train Loss         -> 0.049\n",
            "Train PA           -> 0.933\n",
            "Train IoU          -> 0.903\n",
            "Validation Loss    -> 0.011\n",
            "Validation PA      -> 0.987\n",
            "Validation IoU     -> 0.945\n",
            "\n",
            "Loss decreased from inf to 0.011!\n",
            "Saving the model with the best loss value...\n",
            "~~~~~~~~~~~~~~~~~~~~~~~~~~~~~~~~~~~~~~~~~~~~~~~~~~\n",
            "\n",
            "Epoch 2 train process is started...\n"
          ]
        },
        {
          "name": "stderr",
          "output_type": "stream",
          "text": [
            "100%|██████████| 727/727 [02:00<00:00,  6.05it/s]\n"
          ]
        },
        {
          "name": "stdout",
          "output_type": "stream",
          "text": [
            "Epoch 2 validation process is started...\n"
          ]
        },
        {
          "name": "stderr",
          "output_type": "stream",
          "text": [
            "100%|██████████| 243/243 [00:16<00:00, 15.09it/s]\n"
          ]
        },
        {
          "name": "stdout",
          "output_type": "stream",
          "text": [
            "Epoch 2 train process is completed.\n",
            "\n",
            "~~~~~~~~~~~~~~~~~~~~~~~~~~~~~~~~~~~~~~~~~~~~~~~~~~\n",
            "\n",
            "Epoch 2 train process results: \n",
            "\n",
            "Train Time         -> 136.307 secs\n",
            "Train Loss         -> 0.007\n",
            "Train PA           -> 0.938\n",
            "Train IoU          -> 0.964\n",
            "Validation Loss    -> 0.009\n",
            "Validation PA      -> 0.987\n",
            "Validation IoU     -> 0.949\n",
            "\n",
            "Loss decreased from 0.011 to 0.009!\n",
            "~~~~~~~~~~~~~~~~~~~~~~~~~~~~~~~~~~~~~~~~~~~~~~~~~~\n",
            "\n",
            "Epoch 3 train process is started...\n"
          ]
        },
        {
          "name": "stderr",
          "output_type": "stream",
          "text": [
            "100%|██████████| 727/727 [02:00<00:00,  6.04it/s]\n"
          ]
        },
        {
          "name": "stdout",
          "output_type": "stream",
          "text": [
            "Epoch 3 validation process is started...\n"
          ]
        },
        {
          "name": "stderr",
          "output_type": "stream",
          "text": [
            "100%|██████████| 243/243 [00:15<00:00, 15.44it/s]\n"
          ]
        },
        {
          "name": "stdout",
          "output_type": "stream",
          "text": [
            "Epoch 3 train process is completed.\n",
            "\n",
            "~~~~~~~~~~~~~~~~~~~~~~~~~~~~~~~~~~~~~~~~~~~~~~~~~~\n",
            "\n",
            "Epoch 3 train process results: \n",
            "\n",
            "Train Time         -> 136.067 secs\n",
            "Train Loss         -> 0.005\n",
            "Train PA           -> 0.938\n",
            "Train IoU          -> 0.972\n",
            "Validation Loss    -> 0.013\n",
            "Validation PA      -> 0.987\n",
            "Validation IoU     -> 0.935\n",
            "\n",
            "Loss did not decrease for 1 epoch(s)!\n",
            "~~~~~~~~~~~~~~~~~~~~~~~~~~~~~~~~~~~~~~~~~~~~~~~~~~\n",
            "\n",
            "Epoch 4 train process is started...\n"
          ]
        },
        {
          "name": "stderr",
          "output_type": "stream",
          "text": [
            "100%|██████████| 727/727 [01:59<00:00,  6.06it/s]\n"
          ]
        },
        {
          "name": "stdout",
          "output_type": "stream",
          "text": [
            "Epoch 4 validation process is started...\n"
          ]
        },
        {
          "name": "stderr",
          "output_type": "stream",
          "text": [
            "100%|██████████| 243/243 [00:15<00:00, 15.29it/s]\n"
          ]
        },
        {
          "name": "stdout",
          "output_type": "stream",
          "text": [
            "Epoch 4 train process is completed.\n",
            "\n",
            "~~~~~~~~~~~~~~~~~~~~~~~~~~~~~~~~~~~~~~~~~~~~~~~~~~\n",
            "\n",
            "Epoch 4 train process results: \n",
            "\n",
            "Train Time         -> 135.918 secs\n",
            "Train Loss         -> 0.004\n",
            "Train PA           -> 0.938\n",
            "Train IoU          -> 0.975\n",
            "Validation Loss    -> 0.009\n",
            "Validation PA      -> 0.987\n",
            "Validation IoU     -> 0.950\n",
            "\n",
            "Loss decreased from 0.013 to 0.009!\n",
            "Saving the model with the best loss value...\n",
            "~~~~~~~~~~~~~~~~~~~~~~~~~~~~~~~~~~~~~~~~~~~~~~~~~~\n",
            "\n",
            "Epoch 5 train process is started...\n"
          ]
        },
        {
          "name": "stderr",
          "output_type": "stream",
          "text": [
            "100%|██████████| 727/727 [02:00<00:00,  6.04it/s]\n"
          ]
        },
        {
          "name": "stdout",
          "output_type": "stream",
          "text": [
            "Epoch 5 validation process is started...\n"
          ]
        },
        {
          "name": "stderr",
          "output_type": "stream",
          "text": [
            "100%|██████████| 243/243 [00:15<00:00, 15.40it/s]"
          ]
        },
        {
          "name": "stdout",
          "output_type": "stream",
          "text": [
            "Epoch 5 train process is completed.\n",
            "\n",
            "~~~~~~~~~~~~~~~~~~~~~~~~~~~~~~~~~~~~~~~~~~~~~~~~~~\n",
            "\n",
            "Epoch 5 train process results: \n",
            "\n",
            "Train Time         -> 136.138 secs\n",
            "Train Loss         -> 0.004\n",
            "Train PA           -> 0.938\n",
            "Train IoU          -> 0.975\n",
            "Validation Loss    -> 0.010\n",
            "Validation PA      -> 0.987\n",
            "Validation IoU     -> 0.952\n",
            "\n",
            "Loss did not decrease for 2 epoch(s)!\n",
            "~~~~~~~~~~~~~~~~~~~~~~~~~~~~~~~~~~~~~~~~~~~~~~~~~~\n",
            "\n",
            "Train process is completed in 11.352 minutes.\n"
          ]
        },
        {
          "name": "stderr",
          "output_type": "stream",
          "text": [
            "\n"
          ]
        }
      ],
      "source": [
        "\n",
        "device = \"cuda\" if torch.cuda.is_available() else \"cpu\"\n",
        "\n",
        "history = train(model = model, tr_dl = tr_dl, val_dl = val_dl,\n",
        "                 loss_fn = loss_fn, opt = optimizer, device = device,\n",
        "                 epochs = EPOCHS, save_prefix = \"UnetMobile\", n_cls = n_cls)"
      ]
    },
    {
      "cell_type": "code",
      "execution_count": null,
      "metadata": {
        "colab": {
          "base_uri": "https://localhost:8080/"
        },
        "id": "5Jvkg9QAFOtO",
        "outputId": "e03142e9-3584-4300-d643-e7927917454c"
      },
      "outputs": [
        {
          "name": "stderr",
          "output_type": "stream",
          "text": [
            "100%|██████████| 3874/3874 [01:24<00:00, 45.75it/s]\n"
          ]
        },
        {
          "name": "stdout",
          "output_type": "stream",
          "text": [
            "The MIOU for the segmentation over the test set resulted in:\n",
            "0.901  +\\-  0.128\n",
            "\n",
            "The MIOU 3D for the segmentation over the test set resulted in:\n",
            "0.924  +\\-  0.025\n",
            "\n",
            "The Dicescore for the segmentation over the test set resulted in:\n",
            "0.941  +\\-  0.107\n",
            "\n",
            "The Dicescore 3D for the segmentation over the test set resulted in:\n",
            "0.96  +\\-  0.014\n",
            "\n",
            "The volume similarity for the segmentation over the test set resulted in:\n",
            "1.02  +\\-  0.011\n",
            "\n",
            "The volume similarity abs for the segmentation over the test set resulted in:\n",
            "0.974  +\\-  0.012\n",
            "\n",
            "\n",
            "The time needed for the segmentation of 8 3D images is:\n",
            "85.04 seconds.\n"
          ]
        }
      ],
      "source": [
        "volume_similarities,vol_sim_abs, miou_test, dicescores, execution_time, list_mioU3D,list_dice3D = calculate_results(model,test_dl )\n",
        "\n",
        "volume_similarities = calculate_group_averages(volume_similarities)\n",
        "vol_sim_abs = calculate_group_averages(vol_sim_abs)\n",
        "list_mioU3D = calculate_group_averages(list_mioU3D)\n",
        "list_dice3D = calculate_group_averages(list_dice3D)\n",
        "print_results(miou_test,dicescores,volume_similarities,vol_sim_abs,execution_time,list_mioU3D,list_dice3D)"
      ]
    },
    {
      "cell_type": "markdown",
      "metadata": {
        "id": "FwuiKSp-TjFY"
      },
      "source": [
        "# Unet++ mobile"
      ]
    },
    {
      "cell_type": "code",
      "execution_count": null,
      "metadata": {
        "id": "kqHgTLz0TjFm"
      },
      "outputs": [],
      "source": [
        "\n",
        "model= smp.UnetPlusPlus(\n",
        "    encoder_name='timm-mobilenetv3_large_100',\n",
        "    encoder_depth=5,\n",
        "    encoder_weights=\"imagenet\",\n",
        "    in_channels=1,\n",
        "    classes=n_cls,\n",
        "    activation=None,\n",
        "    )"
      ]
    },
    {
      "cell_type": "code",
      "execution_count": null,
      "metadata": {
        "id": "mE9ImBJrTjFn"
      },
      "outputs": [],
      "source": [
        "loss_fn = torch.nn.CrossEntropyLoss()\n",
        "optimizer = torch.optim.Adam(params = model.parameters(), lr = 3e-4)\n"
      ]
    },
    {
      "cell_type": "code",
      "execution_count": null,
      "metadata": {
        "colab": {
          "base_uri": "https://localhost:8080/"
        },
        "id": "cnzNixouTjFn",
        "outputId": "6097efd4-ad86-4370-bea8-7ea7be30d3cd"
      },
      "outputs": [
        {
          "name": "stdout",
          "output_type": "stream",
          "text": [
            "Start training process...\n",
            "Epoch 1 train process is started...\n"
          ]
        },
        {
          "name": "stderr",
          "output_type": "stream",
          "text": [
            "100%|██████████| 727/727 [02:50<00:00,  4.27it/s]\n"
          ]
        },
        {
          "name": "stdout",
          "output_type": "stream",
          "text": [
            "Epoch 1 validation process is started...\n"
          ]
        },
        {
          "name": "stderr",
          "output_type": "stream",
          "text": [
            "100%|██████████| 243/243 [00:21<00:00, 11.52it/s]\n"
          ]
        },
        {
          "name": "stdout",
          "output_type": "stream",
          "text": [
            "Epoch 1 train process is completed.\n",
            "\n",
            "~~~~~~~~~~~~~~~~~~~~~~~~~~~~~~~~~~~~~~~~~~~~~~~~~~\n",
            "\n",
            "Epoch 1 train process results: \n",
            "\n",
            "Train Time         -> 191.466 secs\n",
            "Train Loss         -> 0.032\n",
            "Train PA           -> 0.938\n",
            "Train IoU          -> 0.911\n",
            "Validation Loss    -> 0.016\n",
            "Validation PA      -> 0.987\n",
            "Validation IoU     -> 0.931\n",
            "\n",
            "Loss decreased from inf to 0.016!\n",
            "Saving the model with the best loss value...\n",
            "~~~~~~~~~~~~~~~~~~~~~~~~~~~~~~~~~~~~~~~~~~~~~~~~~~\n",
            "\n",
            "Epoch 2 train process is started...\n"
          ]
        },
        {
          "name": "stderr",
          "output_type": "stream",
          "text": [
            "100%|██████████| 727/727 [02:49<00:00,  4.28it/s]\n"
          ]
        },
        {
          "name": "stdout",
          "output_type": "stream",
          "text": [
            "Epoch 2 validation process is started...\n"
          ]
        },
        {
          "name": "stderr",
          "output_type": "stream",
          "text": [
            "100%|██████████| 243/243 [00:20<00:00, 11.64it/s]\n"
          ]
        },
        {
          "name": "stdout",
          "output_type": "stream",
          "text": [
            "Epoch 2 train process is completed.\n",
            "\n",
            "~~~~~~~~~~~~~~~~~~~~~~~~~~~~~~~~~~~~~~~~~~~~~~~~~~\n",
            "\n",
            "Epoch 2 train process results: \n",
            "\n",
            "Train Time         -> 190.618 secs\n",
            "Train Loss         -> 0.007\n",
            "Train PA           -> 0.938\n",
            "Train IoU          -> 0.964\n",
            "Validation Loss    -> 0.011\n",
            "Validation PA      -> 0.987\n",
            "Validation IoU     -> 0.944\n",
            "\n",
            "Loss decreased from 0.016 to 0.011!\n",
            "~~~~~~~~~~~~~~~~~~~~~~~~~~~~~~~~~~~~~~~~~~~~~~~~~~\n",
            "\n",
            "Epoch 3 train process is started...\n"
          ]
        },
        {
          "name": "stderr",
          "output_type": "stream",
          "text": [
            "100%|██████████| 727/727 [02:49<00:00,  4.28it/s]\n"
          ]
        },
        {
          "name": "stdout",
          "output_type": "stream",
          "text": [
            "Epoch 3 validation process is started...\n"
          ]
        },
        {
          "name": "stderr",
          "output_type": "stream",
          "text": [
            "100%|██████████| 243/243 [00:21<00:00, 11.56it/s]\n"
          ]
        },
        {
          "name": "stdout",
          "output_type": "stream",
          "text": [
            "Epoch 3 train process is completed.\n",
            "\n",
            "~~~~~~~~~~~~~~~~~~~~~~~~~~~~~~~~~~~~~~~~~~~~~~~~~~\n",
            "\n",
            "Epoch 3 train process results: \n",
            "\n",
            "Train Time         -> 190.803 secs\n",
            "Train Loss         -> 0.005\n",
            "Train PA           -> 0.938\n",
            "Train IoU          -> 0.972\n",
            "Validation Loss    -> 0.010\n",
            "Validation PA      -> 0.987\n",
            "Validation IoU     -> 0.954\n",
            "\n",
            "Loss decreased from 0.011 to 0.010!\n",
            "Saving the model with the best loss value...\n",
            "~~~~~~~~~~~~~~~~~~~~~~~~~~~~~~~~~~~~~~~~~~~~~~~~~~\n",
            "\n",
            "Epoch 4 train process is started...\n"
          ]
        },
        {
          "name": "stderr",
          "output_type": "stream",
          "text": [
            "100%|██████████| 727/727 [02:49<00:00,  4.29it/s]\n"
          ]
        },
        {
          "name": "stdout",
          "output_type": "stream",
          "text": [
            "Epoch 4 validation process is started...\n"
          ]
        },
        {
          "name": "stderr",
          "output_type": "stream",
          "text": [
            "100%|██████████| 243/243 [00:20<00:00, 11.72it/s]\n"
          ]
        },
        {
          "name": "stdout",
          "output_type": "stream",
          "text": [
            "Epoch 4 train process is completed.\n",
            "\n",
            "~~~~~~~~~~~~~~~~~~~~~~~~~~~~~~~~~~~~~~~~~~~~~~~~~~\n",
            "\n",
            "Epoch 4 train process results: \n",
            "\n",
            "Train Time         -> 190.428 secs\n",
            "Train Loss         -> 0.004\n",
            "Train PA           -> 0.938\n",
            "Train IoU          -> 0.976\n",
            "Validation Loss    -> 0.011\n",
            "Validation PA      -> 0.987\n",
            "Validation IoU     -> 0.949\n",
            "\n",
            "Loss did not decrease for 1 epoch(s)!\n",
            "~~~~~~~~~~~~~~~~~~~~~~~~~~~~~~~~~~~~~~~~~~~~~~~~~~\n",
            "\n",
            "Epoch 5 train process is started...\n"
          ]
        },
        {
          "name": "stderr",
          "output_type": "stream",
          "text": [
            "100%|██████████| 727/727 [02:49<00:00,  4.28it/s]\n"
          ]
        },
        {
          "name": "stdout",
          "output_type": "stream",
          "text": [
            "Epoch 5 validation process is started...\n"
          ]
        },
        {
          "name": "stderr",
          "output_type": "stream",
          "text": [
            "100%|██████████| 243/243 [00:20<00:00, 11.63it/s]"
          ]
        },
        {
          "name": "stdout",
          "output_type": "stream",
          "text": [
            "Epoch 5 train process is completed.\n",
            "\n",
            "~~~~~~~~~~~~~~~~~~~~~~~~~~~~~~~~~~~~~~~~~~~~~~~~~~\n",
            "\n",
            "Epoch 5 train process results: \n",
            "\n",
            "Train Time         -> 190.609 secs\n",
            "Train Loss         -> 0.005\n",
            "Train PA           -> 0.938\n",
            "Train IoU          -> 0.974\n",
            "Validation Loss    -> 0.008\n",
            "Validation PA      -> 0.988\n",
            "Validation IoU     -> 0.956\n",
            "\n",
            "Loss decreased from 0.011 to 0.008!\n",
            "~~~~~~~~~~~~~~~~~~~~~~~~~~~~~~~~~~~~~~~~~~~~~~~~~~\n",
            "\n",
            "Train process is completed in 15.903 minutes.\n"
          ]
        },
        {
          "name": "stderr",
          "output_type": "stream",
          "text": [
            "\n"
          ]
        }
      ],
      "source": [
        "\n",
        "device = \"cuda\" if torch.cuda.is_available() else \"cpu\"\n",
        "\n",
        "history = train(model = model, tr_dl = tr_dl, val_dl = val_dl,\n",
        "                 loss_fn = loss_fn, opt = optimizer, device = device,\n",
        "                 epochs = EPOCHS, save_prefix = \"UnetppMobile\", n_cls = n_cls)"
      ]
    },
    {
      "cell_type": "code",
      "execution_count": null,
      "metadata": {
        "colab": {
          "base_uri": "https://localhost:8080/"
        },
        "id": "PCOMwqXNTjFo",
        "outputId": "dc4f4474-3a14-4149-9c43-afb76bb17624"
      },
      "outputs": [
        {
          "name": "stderr",
          "output_type": "stream",
          "text": [
            " 90%|████████▉ | 3478/3874 [01:22<00:10, 36.82it/s]"
          ]
        }
      ],
      "source": [
        "volume_similarities,vol_sim_abs, miou_test, dicescores, execution_time, list_mioU3D,list_dice3D = calculate_results(model,test_dl )\n",
        "\n",
        "volume_similarities = calculate_group_averages(volume_similarities)\n",
        "vol_sim_abs = calculate_group_averages(vol_sim_abs)\n",
        "list_mioU3D = calculate_group_averages(list_mioU3D)\n",
        "list_dice3D = calculate_group_averages(list_dice3D)\n",
        "print_results(miou_test,dicescores,volume_similarities,vol_sim_abs,execution_time,list_mioU3D,list_dice3D)"
      ]
    }
  ],
  "metadata": {
    "accelerator": "GPU",
    "colab": {
      "gpuType": "T4",
      "provenance": []
    },
    "kernelspec": {
      "display_name": "Python 3",
      "name": "python3"
    },
    "language_info": {
      "name": "python"
    }
  },
  "nbformat": 4,
  "nbformat_minor": 0
}
